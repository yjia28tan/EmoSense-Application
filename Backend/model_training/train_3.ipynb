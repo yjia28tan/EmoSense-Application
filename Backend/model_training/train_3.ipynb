{
 "cells": [
  {
   "cell_type": "code",
   "execution_count": 1,
   "id": "5083ea6c",
   "metadata": {},
   "outputs": [
    {
     "name": "stdout",
     "output_type": "stream",
     "text": [
      "WARNING:tensorflow:From C:\\Users\\User\\anaconda3\\lib\\site-packages\\keras\\src\\losses.py:2976: The name tf.losses.sparse_softmax_cross_entropy is deprecated. Please use tf.compat.v1.losses.sparse_softmax_cross_entropy instead.\n",
      "\n",
      "Found 4925 images belonging to 6 classes.\n",
      "Found 120 images belonging to 6 classes.\n"
     ]
    }
   ],
   "source": [
    "import tensorflow as tf\n",
    "from tensorflow.keras.preprocessing.image import ImageDataGenerator\n",
    "from tensorflow.keras.regularizers import l2\n",
    "from tensorflow.keras.applications.xception import Xception, preprocess_input\n",
    "from tensorflow.keras.callbacks import EarlyStopping\n",
    "\n",
    "IMAGE_SHAPE = (224, 224)\n",
    "\n",
    "# Define the data generators\n",
    "train_datagen = ImageDataGenerator(\n",
    "    preprocessing_function=preprocess_input,\n",
    "    validation_split=0.2,\n",
    "    rotation_range=20,\n",
    "    width_shift_range=0.2,\n",
    "    height_shift_range=0.2,\n",
    "    shear_range=0.2,\n",
    "    zoom_range=0.2,\n",
    "    horizontal_flip=True\n",
    ")\n",
    "\n",
    "train_generator = train_datagen.flow_from_directory(\n",
    "    r\"C:\\Users\\User\\OneDrive\\Desktop\\EmoSense\\Face Emotion Recognition\\data_AN\\train\",\n",
    "    target_size=IMAGE_SHAPE,\n",
    "    batch_size=32,\n",
    "    class_mode='categorical',\n",
    "    subset='training'\n",
    ")\n",
    "validation_generator = train_datagen.flow_from_directory(\n",
    "    r\"C:\\Users\\User\\OneDrive\\Desktop\\EmoSense\\Face Emotion Recognition\\data_AN\\val\",\n",
    "    target_size=IMAGE_SHAPE,\n",
    "    batch_size=32,\n",
    "    class_mode='categorical',\n",
    "    subset='validation'\n",
    ")\n"
   ]
  },
  {
   "cell_type": "code",
   "execution_count": 2,
   "id": "2c80de1e",
   "metadata": {},
   "outputs": [
    {
     "name": "stdout",
     "output_type": "stream",
     "text": [
      "WARNING:tensorflow:From C:\\Users\\User\\anaconda3\\lib\\site-packages\\keras\\src\\backend.py:1398: The name tf.executing_eagerly_outside_functions is deprecated. Please use tf.compat.v1.executing_eagerly_outside_functions instead.\n",
      "\n",
      "WARNING:tensorflow:From C:\\Users\\User\\anaconda3\\lib\\site-packages\\keras\\src\\layers\\normalization\\batch_normalization.py:979: The name tf.nn.fused_batch_norm is deprecated. Please use tf.compat.v1.nn.fused_batch_norm instead.\n",
      "\n",
      "WARNING:tensorflow:From C:\\Users\\User\\anaconda3\\lib\\site-packages\\keras\\src\\optimizers\\__init__.py:309: The name tf.train.Optimizer is deprecated. Please use tf.compat.v1.train.Optimizer instead.\n",
      "\n"
     ]
    }
   ],
   "source": [
    "base_model = Xception(weights='imagenet', include_top=False, input_shape=IMAGE_SHAPE+(3,))\n",
    "x = tf.keras.layers.GlobalAveragePooling2D()(base_model.output)\n",
    "x = tf.keras.layers.Dense(1024, activation='relu')(x)\n",
    "x = tf.keras.layers.Dropout(0.5)(x)\n",
    "output = tf.keras.layers.Dense(train_generator.num_classes, activation='softmax')(x)\n",
    "\n",
    "model = tf.keras.models.Model(inputs=base_model.input, outputs=output)\n",
    "\n",
    "# Freeze the base model\n",
    "for layer in base_model.layers:\n",
    "    layer.trainable = False\n",
    "\n",
    "model.compile(optimizer='adam', loss='categorical_crossentropy', metrics=['accuracy'])\n"
   ]
  },
  {
   "cell_type": "code",
   "execution_count": 3,
   "id": "76f98039",
   "metadata": {},
   "outputs": [
    {
     "name": "stdout",
     "output_type": "stream",
     "text": [
      "Epoch 1/50\n",
      "WARNING:tensorflow:From C:\\Users\\User\\anaconda3\\lib\\site-packages\\keras\\src\\utils\\tf_utils.py:492: The name tf.ragged.RaggedTensorValue is deprecated. Please use tf.compat.v1.ragged.RaggedTensorValue instead.\n",
      "\n",
      "WARNING:tensorflow:From C:\\Users\\User\\anaconda3\\lib\\site-packages\\keras\\src\\engine\\base_layer_utils.py:384: The name tf.executing_eagerly_outside_functions is deprecated. Please use tf.compat.v1.executing_eagerly_outside_functions instead.\n",
      "\n",
      "154/154 [==============================] - 655s 4s/step - loss: 1.7162 - accuracy: 0.3046 - val_loss: 1.6080 - val_accuracy: 0.3583\n",
      "Epoch 2/50\n",
      "154/154 [==============================] - 628s 4s/step - loss: 1.5747 - accuracy: 0.3649 - val_loss: 1.5382 - val_accuracy: 0.3833\n",
      "Epoch 3/50\n",
      "154/154 [==============================] - 620s 4s/step - loss: 1.5348 - accuracy: 0.3754 - val_loss: 1.5261 - val_accuracy: 0.4083\n",
      "Epoch 4/50\n",
      "154/154 [==============================] - 621s 4s/step - loss: 1.5186 - accuracy: 0.3915 - val_loss: 1.4895 - val_accuracy: 0.4083\n",
      "Epoch 5/50\n",
      "154/154 [==============================] - 620s 4s/step - loss: 1.4848 - accuracy: 0.4065 - val_loss: 1.4931 - val_accuracy: 0.4583\n",
      "Epoch 6/50\n",
      "154/154 [==============================] - 620s 4s/step - loss: 1.4671 - accuracy: 0.4160 - val_loss: 1.4802 - val_accuracy: 0.4250\n",
      "Epoch 7/50\n",
      "154/154 [==============================] - 614s 4s/step - loss: 1.4570 - accuracy: 0.4191 - val_loss: 1.5288 - val_accuracy: 0.3917\n",
      "Epoch 8/50\n",
      "154/154 [==============================] - 610s 4s/step - loss: 1.4352 - accuracy: 0.4331 - val_loss: 1.6011 - val_accuracy: 0.3833\n",
      "Epoch 9/50\n",
      "154/154 [==============================] - 622s 4s/step - loss: 1.4216 - accuracy: 0.4353 - val_loss: 1.5099 - val_accuracy: 0.4667\n",
      "Epoch 10/50\n",
      "154/154 [==============================] - 599s 4s/step - loss: 1.4112 - accuracy: 0.4384 - val_loss: 1.5246 - val_accuracy: 0.3667\n",
      "Epoch 11/50\n",
      "154/154 [==============================] - 608s 4s/step - loss: 1.4201 - accuracy: 0.4266 - val_loss: 1.4820 - val_accuracy: 0.3833\n",
      "Epoch 12/50\n",
      "154/154 [==============================] - 607s 4s/step - loss: 1.4060 - accuracy: 0.4439 - val_loss: 1.5108 - val_accuracy: 0.4250\n",
      "Epoch 13/50\n",
      "154/154 [==============================] - 602s 4s/step - loss: 1.3938 - accuracy: 0.4491 - val_loss: 1.4921 - val_accuracy: 0.4083\n",
      "Epoch 14/50\n",
      "154/154 [==============================] - 608s 4s/step - loss: 1.3824 - accuracy: 0.4562 - val_loss: 1.4888 - val_accuracy: 0.3583\n",
      "Epoch 15/50\n",
      "154/154 [==============================] - 602s 4s/step - loss: 1.3808 - accuracy: 0.4522 - val_loss: 1.5520 - val_accuracy: 0.3250\n",
      "Epoch 16/50\n",
      "154/154 [==============================] - 619s 4s/step - loss: 1.3691 - accuracy: 0.4558 - val_loss: 1.5794 - val_accuracy: 0.4167\n",
      "Epoch 17/50\n",
      "154/154 [==============================] - 614s 4s/step - loss: 1.3556 - accuracy: 0.4619 - val_loss: 1.4756 - val_accuracy: 0.4250\n",
      "Epoch 18/50\n",
      "154/154 [==============================] - 612s 4s/step - loss: 1.3548 - accuracy: 0.4640 - val_loss: 1.4609 - val_accuracy: 0.4083\n",
      "Epoch 19/50\n",
      "154/154 [==============================] - 603s 4s/step - loss: 1.3444 - accuracy: 0.4729 - val_loss: 1.4697 - val_accuracy: 0.4417\n",
      "Epoch 20/50\n",
      "154/154 [==============================] - 602s 4s/step - loss: 1.3418 - accuracy: 0.4631 - val_loss: 1.4623 - val_accuracy: 0.5000\n",
      "Epoch 21/50\n",
      "154/154 [==============================] - 552s 4s/step - loss: 1.3235 - accuracy: 0.4808 - val_loss: 1.4785 - val_accuracy: 0.4833\n",
      "Epoch 22/50\n",
      "154/154 [==============================] - 620s 4s/step - loss: 1.3225 - accuracy: 0.4837 - val_loss: 1.5282 - val_accuracy: 0.4167\n",
      "Epoch 23/50\n",
      "154/154 [==============================] - 612s 4s/step - loss: 1.3207 - accuracy: 0.4735 - val_loss: 1.5255 - val_accuracy: 0.4167\n",
      "Epoch 24/50\n",
      "154/154 [==============================] - 610s 4s/step - loss: 1.3242 - accuracy: 0.4792 - val_loss: 1.5927 - val_accuracy: 0.3417\n",
      "Epoch 25/50\n",
      "154/154 [==============================] - 610s 4s/step - loss: 1.2992 - accuracy: 0.4973 - val_loss: 1.4917 - val_accuracy: 0.4250\n",
      "Epoch 26/50\n",
      "154/154 [==============================] - 628s 4s/step - loss: 1.3083 - accuracy: 0.4881 - val_loss: 1.6595 - val_accuracy: 0.4083\n",
      "Epoch 27/50\n",
      "154/154 [==============================] - 608s 4s/step - loss: 1.2972 - accuracy: 0.4889 - val_loss: 1.5301 - val_accuracy: 0.3750\n",
      "Epoch 28/50\n",
      "154/154 [==============================] - 612s 4s/step - loss: 1.2852 - accuracy: 0.5050 - val_loss: 1.5113 - val_accuracy: 0.4083\n",
      "Epoch 29/50\n",
      "154/154 [==============================] - 624s 4s/step - loss: 1.2844 - accuracy: 0.4948 - val_loss: 1.4405 - val_accuracy: 0.4333\n",
      "Epoch 30/50\n",
      "154/154 [==============================] - 615s 4s/step - loss: 1.2680 - accuracy: 0.5017 - val_loss: 1.5408 - val_accuracy: 0.3750\n",
      "Epoch 31/50\n",
      "154/154 [==============================] - 641s 4s/step - loss: 1.2718 - accuracy: 0.5056 - val_loss: 1.5349 - val_accuracy: 0.3750\n",
      "Epoch 32/50\n",
      "154/154 [==============================] - 649s 4s/step - loss: 1.2597 - accuracy: 0.4999 - val_loss: 1.4100 - val_accuracy: 0.4417\n",
      "Epoch 33/50\n",
      "154/154 [==============================] - 654s 4s/step - loss: 1.2499 - accuracy: 0.5113 - val_loss: 1.5197 - val_accuracy: 0.3667\n",
      "Epoch 34/50\n",
      "154/154 [==============================] - 633s 4s/step - loss: 1.2463 - accuracy: 0.5115 - val_loss: 1.5535 - val_accuracy: 0.4250\n",
      "Epoch 35/50\n",
      "154/154 [==============================] - 656s 4s/step - loss: 1.2586 - accuracy: 0.4999 - val_loss: 1.4671 - val_accuracy: 0.4083\n",
      "Epoch 36/50\n",
      "154/154 [==============================] - 673s 4s/step - loss: 1.2400 - accuracy: 0.5086 - val_loss: 1.5314 - val_accuracy: 0.4333\n",
      "Epoch 37/50\n",
      "154/154 [==============================] - 656s 4s/step - loss: 1.2386 - accuracy: 0.5184 - val_loss: 1.5603 - val_accuracy: 0.4250\n",
      "Epoch 38/50\n",
      "154/154 [==============================] - 652s 4s/step - loss: 1.2224 - accuracy: 0.5277 - val_loss: 1.4484 - val_accuracy: 0.4250\n",
      "Epoch 39/50\n",
      "154/154 [==============================] - 656s 4s/step - loss: 1.2415 - accuracy: 0.5165 - val_loss: 1.6194 - val_accuracy: 0.3917\n",
      "Epoch 40/50\n",
      "154/154 [==============================] - 630s 4s/step - loss: 1.2081 - accuracy: 0.5283 - val_loss: 1.4845 - val_accuracy: 0.4000\n",
      "Epoch 41/50\n",
      "154/154 [==============================] - 653s 4s/step - loss: 1.2068 - accuracy: 0.5261 - val_loss: 1.5930 - val_accuracy: 0.3250\n",
      "Epoch 42/50\n",
      "154/154 [==============================] - 677s 4s/step - loss: 1.2247 - accuracy: 0.5151 - val_loss: 1.4944 - val_accuracy: 0.3583\n",
      "Epoch 43/50\n",
      "154/154 [==============================] - 663s 4s/step - loss: 1.2192 - accuracy: 0.5202 - val_loss: 1.6072 - val_accuracy: 0.3083\n",
      "Epoch 44/50\n",
      "154/154 [==============================] - 652s 4s/step - loss: 1.2046 - accuracy: 0.5334 - val_loss: 1.5605 - val_accuracy: 0.3750\n",
      "Epoch 45/50\n",
      "154/154 [==============================] - 668s 4s/step - loss: 1.2032 - accuracy: 0.5287 - val_loss: 1.5906 - val_accuracy: 0.3583\n",
      "Epoch 46/50\n",
      "154/154 [==============================] - 630s 4s/step - loss: 1.2078 - accuracy: 0.5291 - val_loss: 1.6040 - val_accuracy: 0.3583\n",
      "Epoch 47/50\n",
      "154/154 [==============================] - 652s 4s/step - loss: 1.2008 - accuracy: 0.5383 - val_loss: 1.5433 - val_accuracy: 0.4333\n",
      "Epoch 48/50\n",
      "154/154 [==============================] - 665s 4s/step - loss: 1.1742 - accuracy: 0.5517 - val_loss: 1.4484 - val_accuracy: 0.4667\n",
      "Epoch 49/50\n",
      "154/154 [==============================] - 665s 4s/step - loss: 1.1675 - accuracy: 0.5460 - val_loss: 1.4924 - val_accuracy: 0.3583\n",
      "Epoch 50/50\n",
      "154/154 [==============================] - 659s 4s/step - loss: 1.1608 - accuracy: 0.5436 - val_loss: 1.6321 - val_accuracy: 0.3750\n"
     ]
    }
   ],
   "source": [
    "history = model.fit(\n",
    "    train_generator,\n",
    "    validation_data=validation_generator,\n",
    "    epochs=50\n",
    ")\n"
   ]
  },
  {
   "cell_type": "code",
   "execution_count": 4,
   "id": "bb974984",
   "metadata": {},
   "outputs": [
    {
     "name": "stdout",
     "output_type": "stream",
     "text": [
      "Epoch 1/50\n",
      "154/154 [==============================] - 852s 5s/step - loss: 1.5258 - accuracy: 0.3988 - val_loss: 1.4761 - val_accuracy: 0.4500\n",
      "Epoch 2/50\n",
      "154/154 [==============================] - 783s 5s/step - loss: 1.3950 - accuracy: 0.4497 - val_loss: 1.6386 - val_accuracy: 0.4083\n",
      "Epoch 3/50\n",
      "154/154 [==============================] - 844s 5s/step - loss: 1.3156 - accuracy: 0.4867 - val_loss: 1.5360 - val_accuracy: 0.4417\n",
      "Epoch 4/50\n",
      "154/154 [==============================] - 897s 6s/step - loss: 1.2685 - accuracy: 0.5027 - val_loss: 1.4554 - val_accuracy: 0.3833\n",
      "Epoch 5/50\n",
      "154/154 [==============================] - 821s 5s/step - loss: 1.2002 - accuracy: 0.5391 - val_loss: 1.4906 - val_accuracy: 0.3917\n",
      "Epoch 6/50\n",
      "154/154 [==============================] - 821s 5s/step - loss: 1.1630 - accuracy: 0.5535 - val_loss: 1.4537 - val_accuracy: 0.4167\n",
      "Epoch 7/50\n",
      "154/154 [==============================] - 811s 5s/step - loss: 1.1345 - accuracy: 0.5720 - val_loss: 1.4501 - val_accuracy: 0.4500\n",
      "Epoch 8/50\n",
      "154/154 [==============================] - 811s 5s/step - loss: 1.0964 - accuracy: 0.5805 - val_loss: 1.4587 - val_accuracy: 0.4750\n",
      "Epoch 9/50\n",
      "154/154 [==============================] - 809s 5s/step - loss: 1.0826 - accuracy: 0.5866 - val_loss: 1.4749 - val_accuracy: 0.4667\n",
      "Epoch 10/50\n",
      "154/154 [==============================] - 800s 5s/step - loss: 1.0638 - accuracy: 0.6032 - val_loss: 1.4646 - val_accuracy: 0.4917\n",
      "Epoch 11/50\n",
      "154/154 [==============================] - 809s 5s/step - loss: 1.0152 - accuracy: 0.6110 - val_loss: 1.4526 - val_accuracy: 0.4167\n",
      "Epoch 12/50\n",
      "154/154 [==============================] - 828s 5s/step - loss: 1.0121 - accuracy: 0.6213 - val_loss: 1.4511 - val_accuracy: 0.4417\n",
      "Epoch 13/50\n",
      "154/154 [==============================] - 830s 5s/step - loss: 0.9798 - accuracy: 0.6313 - val_loss: 1.3924 - val_accuracy: 0.5417\n",
      "Epoch 14/50\n",
      "154/154 [==============================] - 793s 5s/step - loss: 0.9755 - accuracy: 0.6234 - val_loss: 1.3972 - val_accuracy: 0.4333\n",
      "Epoch 15/50\n",
      "154/154 [==============================] - 804s 5s/step - loss: 0.9585 - accuracy: 0.6384 - val_loss: 1.4552 - val_accuracy: 0.4583\n",
      "Epoch 16/50\n",
      "154/154 [==============================] - 824s 5s/step - loss: 0.9349 - accuracy: 0.6487 - val_loss: 1.5253 - val_accuracy: 0.5000\n",
      "Epoch 17/50\n",
      "154/154 [==============================] - 815s 5s/step - loss: 0.9063 - accuracy: 0.6636 - val_loss: 1.4636 - val_accuracy: 0.4750\n",
      "Epoch 18/50\n",
      "154/154 [==============================] - 776s 5s/step - loss: 0.9042 - accuracy: 0.6534 - val_loss: 1.4676 - val_accuracy: 0.4667\n",
      "Epoch 19/50\n",
      "154/154 [==============================] - 497s 3s/step - loss: 0.9000 - accuracy: 0.6536 - val_loss: 1.4856 - val_accuracy: 0.4583\n",
      "Epoch 20/50\n",
      "154/154 [==============================] - 478s 3s/step - loss: 0.8674 - accuracy: 0.6688 - val_loss: 1.4890 - val_accuracy: 0.4417\n",
      "Epoch 21/50\n",
      "154/154 [==============================] - 463s 3s/step - loss: 0.8709 - accuracy: 0.6698 - val_loss: 1.4741 - val_accuracy: 0.4667\n",
      "Epoch 22/50\n",
      "154/154 [==============================] - 459s 3s/step - loss: 0.8390 - accuracy: 0.6938 - val_loss: 1.5334 - val_accuracy: 0.4833\n",
      "Epoch 23/50\n",
      "154/154 [==============================] - 480s 3s/step - loss: 0.8458 - accuracy: 0.6796 - val_loss: 1.5016 - val_accuracy: 0.4583\n",
      "Epoch 24/50\n",
      "154/154 [==============================] - 478s 3s/step - loss: 0.8278 - accuracy: 0.6849 - val_loss: 1.5094 - val_accuracy: 0.5083\n",
      "Epoch 25/50\n",
      "154/154 [==============================] - 469s 3s/step - loss: 0.8178 - accuracy: 0.6899 - val_loss: 1.5904 - val_accuracy: 0.5083\n",
      "Epoch 26/50\n",
      "154/154 [==============================] - 464s 3s/step - loss: 0.7980 - accuracy: 0.7007 - val_loss: 1.4054 - val_accuracy: 0.5333\n",
      "Epoch 27/50\n",
      "154/154 [==============================] - 477s 3s/step - loss: 0.7840 - accuracy: 0.7060 - val_loss: 1.4349 - val_accuracy: 0.5167\n",
      "Epoch 28/50\n",
      "154/154 [==============================] - 466s 3s/step - loss: 0.7737 - accuracy: 0.7074 - val_loss: 1.3665 - val_accuracy: 0.5083\n",
      "Epoch 29/50\n",
      "154/154 [==============================] - 513s 3s/step - loss: 0.7765 - accuracy: 0.7103 - val_loss: 1.3946 - val_accuracy: 0.5083\n",
      "Epoch 30/50\n",
      "154/154 [==============================] - 536s 3s/step - loss: 0.7425 - accuracy: 0.7259 - val_loss: 1.4391 - val_accuracy: 0.5583\n",
      "Epoch 31/50\n",
      "154/154 [==============================] - 532s 3s/step - loss: 0.7681 - accuracy: 0.7159 - val_loss: 1.5234 - val_accuracy: 0.5417\n",
      "Epoch 32/50\n",
      "154/154 [==============================] - 492s 3s/step - loss: 0.7223 - accuracy: 0.7289 - val_loss: 1.5647 - val_accuracy: 0.4583\n",
      "Epoch 33/50\n",
      "154/154 [==============================] - 508s 3s/step - loss: 0.7218 - accuracy: 0.7308 - val_loss: 1.5197 - val_accuracy: 0.4417\n",
      "Epoch 34/50\n",
      "154/154 [==============================] - 504s 3s/step - loss: 0.7172 - accuracy: 0.7314 - val_loss: 1.5386 - val_accuracy: 0.5083\n",
      "Epoch 35/50\n",
      "154/154 [==============================] - 472s 3s/step - loss: 0.7185 - accuracy: 0.7295 - val_loss: 1.5916 - val_accuracy: 0.4833\n",
      "Epoch 36/50\n",
      "154/154 [==============================] - 475s 3s/step - loss: 0.6923 - accuracy: 0.7474 - val_loss: 1.4756 - val_accuracy: 0.4750\n",
      "Epoch 37/50\n",
      "154/154 [==============================] - 469s 3s/step - loss: 0.6859 - accuracy: 0.7442 - val_loss: 1.5575 - val_accuracy: 0.4667\n",
      "Epoch 38/50\n",
      "154/154 [==============================] - 489s 3s/step - loss: 0.6770 - accuracy: 0.7533 - val_loss: 1.3619 - val_accuracy: 0.5333\n",
      "Epoch 39/50\n",
      "154/154 [==============================] - 517s 3s/step - loss: 0.6613 - accuracy: 0.7517 - val_loss: 1.4516 - val_accuracy: 0.5417\n",
      "Epoch 40/50\n",
      "154/154 [==============================] - 523s 3s/step - loss: 0.6389 - accuracy: 0.7598 - val_loss: 1.5052 - val_accuracy: 0.5083\n",
      "Epoch 41/50\n",
      "154/154 [==============================] - 512s 3s/step - loss: 0.6433 - accuracy: 0.7590 - val_loss: 1.4593 - val_accuracy: 0.5167\n",
      "Epoch 42/50\n",
      "154/154 [==============================] - 583s 4s/step - loss: 0.6338 - accuracy: 0.7663 - val_loss: 1.4142 - val_accuracy: 0.5750\n",
      "Epoch 43/50\n",
      "154/154 [==============================] - 605s 4s/step - loss: 0.6350 - accuracy: 0.7622 - val_loss: 1.6207 - val_accuracy: 0.4917\n",
      "Epoch 44/50\n",
      "154/154 [==============================] - 536s 3s/step - loss: 0.6349 - accuracy: 0.7661 - val_loss: 1.5632 - val_accuracy: 0.5167\n",
      "Epoch 45/50\n",
      "154/154 [==============================] - 505s 3s/step - loss: 0.6114 - accuracy: 0.7742 - val_loss: 1.5253 - val_accuracy: 0.4417\n",
      "Epoch 46/50\n",
      "154/154 [==============================] - 485s 3s/step - loss: 0.6011 - accuracy: 0.7791 - val_loss: 1.6702 - val_accuracy: 0.4750\n",
      "Epoch 47/50\n",
      "154/154 [==============================] - 474s 3s/step - loss: 0.5836 - accuracy: 0.7815 - val_loss: 1.7018 - val_accuracy: 0.5250\n",
      "Epoch 48/50\n",
      "154/154 [==============================] - 455s 3s/step - loss: 0.5929 - accuracy: 0.7779 - val_loss: 1.5702 - val_accuracy: 0.4750\n",
      "Epoch 49/50\n",
      "154/154 [==============================] - 476s 3s/step - loss: 0.5897 - accuracy: 0.7838 - val_loss: 1.6089 - val_accuracy: 0.5167\n",
      "Epoch 50/50\n",
      "154/154 [==============================] - 458s 3s/step - loss: 0.5773 - accuracy: 0.7892 - val_loss: 1.5493 - val_accuracy: 0.5417\n"
     ]
    }
   ],
   "source": [
    "# Unfreeze the top layers of the model\n",
    "for layer in base_model.layers[-20:]:\n",
    "    layer.trainable = True\n",
    "\n",
    "model.compile(optimizer=tf.keras.optimizers.Adam(1e-5), loss='categorical_crossentropy', metrics=['accuracy'])\n",
    "\n",
    "# Continue training\n",
    "history_fine = model.fit( \n",
    "    train_generator,\n",
    "    validation_data=validation_generator,\n",
    "    epochs=50\n",
    ")\n"
   ]
  },
  {
   "cell_type": "code",
   "execution_count": 5,
   "id": "0d5cae71",
   "metadata": {},
   "outputs": [
    {
     "name": "stdout",
     "output_type": "stream",
     "text": [
      "4/4 [==============================] - 9s 2s/step - loss: 1.6191 - accuracy: 0.4750\n",
      "Validation Loss: 1.619081974029541\n",
      "Validation Accuracy: 0.4749999940395355\n"
     ]
    }
   ],
   "source": [
    "loss, accuracy = model.evaluate(validation_generator)\n",
    "print(f'Validation Loss: {loss}')\n",
    "print(f'Validation Accuracy: {accuracy}')\n"
   ]
  },
  {
   "cell_type": "code",
   "execution_count": 6,
   "id": "7fba1d16",
   "metadata": {},
   "outputs": [
    {
     "data": {
      "image/png": "[encoded data removed]",
      "text/plain": [
       "<Figure size 1200x400 with 2 Axes>"
      ]
     },
     "metadata": {},
     "output_type": "display_data"
    }
   ],
   "source": [
    "import matplotlib.pyplot as plt\n",
    "\n",
    "def plot_history(history):\n",
    "    plt.figure(figsize=(12, 4))\n",
    "    \n",
    "    # Plot training & validation accuracy values\n",
    "    plt.subplot(1, 2, 1)\n",
    "    plt.plot(history.history['accuracy'])\n",
    "    plt.plot(history.history['val_accuracy'])\n",
    "    plt.title('Model accuracy')\n",
    "    plt.ylabel('Accuracy')\n",
    "    plt.xlabel('Epoch')\n",
    "    plt.legend(['Train', 'Validation'], loc='upper left')\n",
    "    \n",
    "    # Plot training & validation loss values\n",
    "    plt.subplot(1, 2, 2)\n",
    "    plt.plot(history.history['loss'])\n",
    "    plt.plot(history.history['val_loss'])\n",
    "    plt.title('Model loss')\n",
    "    plt.ylabel('Loss')\n",
    "    plt.xlabel('Epoch')\n",
    "    plt.legend(['Train', 'Validation'], loc='upper left')\n",
    "    \n",
    "    plt.show()\n",
    "\n",
    "plot_history(history_fine)\n"
   ]
  },
  {
   "cell_type": "code",
   "execution_count": 7,
   "id": "5c7b01ce",
   "metadata": {},
   "outputs": [
    {
     "name": "stdout",
     "output_type": "stream",
     "text": [
      "Found 2400 images belonging to 6 classes.\n"
     ]
    }
   ],
   "source": [
    "test_datagen = ImageDataGenerator(preprocessing_function=preprocess_input)\n",
    "\n",
    "test_generator = test_datagen.flow_from_directory(\n",
    "    r\"C:\\Users\\User\\OneDrive\\Desktop\\EmoSense\\Face Emotion Recognition\\data_AN\\test\",  # Replace with the path to your test images\n",
    "    target_size=IMAGE_SHAPE,\n",
    "    batch_size=32,\n",
    "    class_mode='categorical',\n",
    "    shuffle=False  # Important to keep the order for evaluation\n",
    ")\n"
   ]
  },
  {
   "cell_type": "code",
   "execution_count": 8,
   "id": "e949d830",
   "metadata": {},
   "outputs": [
    {
     "name": "stdout",
     "output_type": "stream",
     "text": [
      "75/75 [==============================] - 168s 2s/step\n",
      "Accuracy: 49.71%\n"
     ]
    }
   ],
   "source": [
    "import numpy as np\n",
    "# Make predictions on the test set\n",
    "predictions = model.predict(test_generator)\n",
    "\n",
    "# Convert predictions to class labels\n",
    "predicted_classes = np.argmax(predictions, axis=1)\n",
    "\n",
    "# Extract the true labels from the test generator\n",
    "y_test = test_generator.classes\n",
    "\n",
    "# Calculate the accuracy using the custom function\n",
    "def accuracy(A):\n",
    "    count = 0\n",
    "    y_t = y_test[0:A.size]  # Adjust range as necessary\n",
    "    for i in range(A.size):\n",
    "        if A[i] == y_t[i]:\n",
    "            count += 1\n",
    "    acc = (count / A.size) * 100\n",
    "    return acc\n",
    "\n",
    "acc = accuracy(predicted_classes)\n",
    "print(f'Accuracy: {acc:.2f}%')\n"
   ]
  },
  {
   "cell_type": "code",
   "execution_count": 9,
   "id": "e4535312",
   "metadata": {},
   "outputs": [
    {
     "name": "stderr",
     "output_type": "stream",
     "text": [
      "C:\\Users\\User\\anaconda3\\lib\\site-packages\\keras\\src\\engine\\training.py:3103: UserWarning: You are saving your model as an HDF5 file via `model.save()`. This file format is considered legacy. We recommend using instead the native Keras format, e.g. `model.save('my_model.keras')`.\n",
      "  saving_api.save_model(\n"
     ]
    }
   ],
   "source": [
    "# Assuming 'model' is your trained model\n",
    "model.save('train3_AN.h5')  # You can use .h5 or no extension for SavedModel format\n"
   ]
  },
  {
   "cell_type": "code",
   "execution_count": null,
   "id": "fd1f5642",
   "metadata": {},
   "outputs": [],
   "source": []
  }
 ],
 "metadata": {
  "kernelspec": {
   "display_name": "Python 3 (ipykernel)",
   "language": "python",
   "name": "python3"
  },
  "language_info": {
   "codemirror_mode": {
    "name": "ipython",
    "version": 3
   },
   "file_extension": ".py",
   "mimetype": "text/x-python",
   "name": "python",
   "nbconvert_exporter": "python",
   "pygments_lexer": "ipython3",
   "version": "3.9.18"
  }
 },
 "nbformat": 4,
 "nbformat_minor": 5
}
