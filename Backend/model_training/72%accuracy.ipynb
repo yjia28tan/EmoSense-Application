{
 "cells": [
  {
   "cell_type": "code",
   "execution_count": 27,
   "metadata": {},
   "outputs": [
    {
     "name": "stdout",
     "output_type": "stream",
     "text": [
      "Found 21077 files belonging to 4 classes.\n",
      "Found 5140 files belonging to 4 classes.\n"
     ]
    }
   ],
   "source": [
    "import tensorflow as tf\n",
    "from tensorflow.keras.preprocessing.image import ImageDataGenerator\n",
    "from tensorflow.keras.applications.xception import Xception, preprocess_input\n",
    "\n",
    "classes = [\"angry\", \"happy\", \"neutral\", \"sad\"]\n",
    "\n",
    "# Data Augmentation\n",
    "train_datagen = ImageDataGenerator(\n",
    "    rotation_range=20,\n",
    "    width_shift_range=0.2,\n",
    "    height_shift_range=0.2,\n",
    "    horizontal_flip=True, \n",
    "    zoom_range=0.2)\n",
    "\n",
    "train_dataset = tf.keras.preprocessing.image_dataset_from_directory(\n",
    "    r\"D:\\code\\archive\\images2\\images\\train\",\n",
    "    labels='inferred',\n",
    "    label_mode='categorical',\n",
    "    class_names=classes,\n",
    "    color_mode='rgb',\n",
    "    batch_size=32,\n",
    "    image_size=(48, 48),\n",
    "    shuffle=True,\n",
    "    seed=99\n",
    ")\n",
    "\n",
    "validation_dataset = tf.keras.preprocessing.image_dataset_from_directory(\n",
    "    r\"D:\\code\\archive\\images2\\images\\validation\",  # Use the same directory for validation data\n",
    "    labels='inferred',\n",
    "    label_mode='categorical',\n",
    "    class_names=classes,\n",
    "    color_mode='rgb',\n",
    "    batch_size=1,\n",
    "    image_size=(48, 48),\n",
    "    shuffle=True,\n",
    "    seed=99\n",
    ")\n",
    "\n",
    "# training_dataset = (\n",
    "#     train_dataset\n",
    "#     .prefetch(tf.data.AUTOTUNE)\n",
    "# )\n",
    "# validation_dataset = (\n",
    "#     validation_dataset\n",
    "#     .prefetch(tf.data.AUTOTUNE)\n",
    "# )"
   ]
  },
  {
   "cell_type": "code",
   "execution_count": 35,
   "metadata": {},
   "outputs": [],
   "source": [
    "from tensorflow.keras.applications import VGG16\n",
    "from tensorflow.keras.losses import CategoricalCrossentropy\n",
    "from tensorflow.keras.metrics import TopKCategoricalAccuracy, CategoricalAccuracy\n",
    "from tensorflow.keras.optimizers import Adam,SGD\n",
    "# from tensorflow.keras.layers import GlobalAveragePooling2D, Dense\n",
    "\n",
    "base_model = VGG16(weights='imagenet', include_top=False, input_shape=(48, 48, 3))\n",
    "x = tf.keras.layers.GlobalAveragePooling2D()(base_model.output)\n",
    "x = tf.keras.layers.Dense(64, activation='relu', kernel_regularizer=tf.keras.regularizers.l2(l2=0.001))(x)\n",
    "x = tf.keras.layers.Dense(16, activation='relu', kernel_regularizer=tf.keras.regularizers.l2(l2=0.001))(x)\n",
    "# until here is 98% 68% 1e-5\n",
    "# x = tf.keras.layers.Dense(16, activation='relu', kernel_regularizer=tf.keras.regularizers.l2(l2=0.001))(x)\n",
    "# here is 77% 62% 1e-6\n",
    "# x = tf.keras.layers.Dense(64, activation='relu', kernel_regularizer=tf.keras.regularizers.l2(l2=0.001))(x)\n",
    "# x = tf.keras.layers.Dense(512, activation='relu', kernel_regularizer=tf.keras.regularizers.l2(l2=0.001))(x)\n",
    "# x = tf.keras.layers.Dropout(0.1)(x)\n",
    "# x = tf.keras.layers.Dense(256, activation='relu', kernel_regularizer=tf.keras.regularizers.l2(l2=0.001))(x)\n",
    "# x = tf.keras.layers.Dropout(0.2)(x)\n",
    "output = tf.keras.layers.Dense(4, activation='softmax')(x)\n",
    "model = tf.keras.models.Model(inputs=base_model.input, outputs=output)\n",
    "for layer in base_model.layers:\n",
    "    layer.trainable = True\n",
    "\n",
    "loss_function = CategoricalCrossentropy()\n",
    "metrics = [CategoricalAccuracy(name=\"accuracy\"), TopKCategoricalAccuracy(k=4, name=\"top_k_accuracy\")]\n",
    "model.compile(\n",
    "    optimizer=Adam(learning_rate=1e-4),  # Increase learning rate\n",
    "    loss=loss_function,\n",
    "    metrics=metrics,\n",
    ")"
   ]
  },
  {
   "cell_type": "code",
   "execution_count": 36,
   "metadata": {},
   "outputs": [
    {
     "name": "stdout",
     "output_type": "stream",
     "text": [
      "Epoch 1/120\n",
      "\u001b[1m659/659\u001b[0m \u001b[32m━━━━━━━━━━━━━━━━━━━━\u001b[0m\u001b[37m\u001b[0m \u001b[1m234s\u001b[0m 350ms/step - accuracy: 0.3242 - loss: 1.6347 - top_k_accuracy: 1.0000 - val_accuracy: 0.4967 - val_loss: 1.1525 - val_top_k_accuracy: 1.0000 - learning_rate: 1.0000e-04\n",
      "Epoch 2/120\n",
      "\u001b[1m659/659\u001b[0m \u001b[32m━━━━━━━━━━━━━━━━━━━━\u001b[0m\u001b[37m\u001b[0m \u001b[1m235s\u001b[0m 356ms/step - accuracy: 0.5063 - loss: 1.1494 - top_k_accuracy: 1.0000 - val_accuracy: 0.6226 - val_loss: 0.9691 - val_top_k_accuracy: 1.0000 - learning_rate: 1.0000e-04\n",
      "Epoch 3/120\n",
      "\u001b[1m659/659\u001b[0m \u001b[32m━━━━━━━━━━━━━━━━━━━━\u001b[0m\u001b[37m\u001b[0m \u001b[1m236s\u001b[0m 358ms/step - accuracy: 0.6307 - loss: 0.9304 - top_k_accuracy: 1.0000 - val_accuracy: 0.6516 - val_loss: 0.8764 - val_top_k_accuracy: 1.0000 - learning_rate: 1.0000e-04\n",
      "Epoch 4/120\n",
      "\u001b[1m659/659\u001b[0m \u001b[32m━━━━━━━━━━━━━━━━━━━━\u001b[0m\u001b[37m\u001b[0m \u001b[1m229s\u001b[0m 348ms/step - accuracy: 0.6955 - loss: 0.8000 - top_k_accuracy: 1.0000 - val_accuracy: 0.6767 - val_loss: 0.8442 - val_top_k_accuracy: 1.0000 - learning_rate: 1.0000e-04\n",
      "Epoch 5/120\n",
      "\u001b[1m659/659\u001b[0m \u001b[32m━━━━━━━━━━━━━━━━━━━━\u001b[0m\u001b[37m\u001b[0m \u001b[1m225s\u001b[0m 341ms/step - accuracy: 0.7399 - loss: 0.7009 - top_k_accuracy: 1.0000 - val_accuracy: 0.6951 - val_loss: 0.8409 - val_top_k_accuracy: 1.0000 - learning_rate: 1.0000e-04\n",
      "Epoch 6/120\n",
      "\u001b[1m659/659\u001b[0m \u001b[32m━━━━━━━━━━━━━━━━━━━━\u001b[0m\u001b[37m\u001b[0m \u001b[1m227s\u001b[0m 344ms/step - accuracy: 0.7852 - loss: 0.5896 - top_k_accuracy: 1.0000 - val_accuracy: 0.7039 - val_loss: 0.8727 - val_top_k_accuracy: 1.0000 - learning_rate: 1.0000e-04\n",
      "Epoch 7/120\n",
      "\u001b[1m659/659\u001b[0m \u001b[32m━━━━━━━━━━━━━━━━━━━━\u001b[0m\u001b[37m\u001b[0m \u001b[1m227s\u001b[0m 344ms/step - accuracy: 0.8246 - loss: 0.4893 - top_k_accuracy: 1.0000 - val_accuracy: 0.6947 - val_loss: 1.0076 - val_top_k_accuracy: 1.0000 - learning_rate: 1.0000e-04\n",
      "Epoch 8/120\n",
      "\u001b[1m659/659\u001b[0m \u001b[32m━━━━━━━━━━━━━━━━━━━━\u001b[0m\u001b[37m\u001b[0m \u001b[1m227s\u001b[0m 345ms/step - accuracy: 0.8662 - loss: 0.3852 - top_k_accuracy: 1.0000 - val_accuracy: 0.6903 - val_loss: 1.1236 - val_top_k_accuracy: 1.0000 - learning_rate: 1.0000e-04\n",
      "Epoch 9/120\n",
      "\u001b[1m659/659\u001b[0m \u001b[32m━━━━━━━━━━━━━━━━━━━━\u001b[0m\u001b[37m\u001b[0m \u001b[1m227s\u001b[0m 345ms/step - accuracy: 0.9043 - loss: 0.2950 - top_k_accuracy: 1.0000 - val_accuracy: 0.6741 - val_loss: 1.4795 - val_top_k_accuracy: 1.0000 - learning_rate: 1.0000e-04\n",
      "Epoch 10/120\n",
      "\u001b[1m659/659\u001b[0m \u001b[32m━━━━━━━━━━━━━━━━━━━━\u001b[0m\u001b[37m\u001b[0m \u001b[1m227s\u001b[0m 344ms/step - accuracy: 0.9257 - loss: 0.2308 - top_k_accuracy: 1.0000 - val_accuracy: 0.6549 - val_loss: 1.7943 - val_top_k_accuracy: 1.0000 - learning_rate: 1.0000e-04\n",
      "Epoch 11/120\n",
      "\u001b[1m659/659\u001b[0m \u001b[32m━━━━━━━━━━━━━━━━━━━━\u001b[0m\u001b[37m\u001b[0m \u001b[1m229s\u001b[0m 348ms/step - accuracy: 0.9520 - loss: 0.1557 - top_k_accuracy: 1.0000 - val_accuracy: 0.7235 - val_loss: 1.3771 - val_top_k_accuracy: 1.0000 - learning_rate: 2.0000e-05\n",
      "Epoch 12/120\n",
      "\u001b[1m659/659\u001b[0m \u001b[32m━━━━━━━━━━━━━━━━━━━━\u001b[0m\u001b[37m\u001b[0m \u001b[1m231s\u001b[0m 350ms/step - accuracy: 0.9856 - loss: 0.0666 - top_k_accuracy: 1.0000 - val_accuracy: 0.7193 - val_loss: 1.7182 - val_top_k_accuracy: 1.0000 - learning_rate: 2.0000e-05\n",
      "Epoch 13/120\n",
      "\u001b[1m659/659\u001b[0m \u001b[32m━━━━━━━━━━━━━━━━━━━━\u001b[0m\u001b[37m\u001b[0m \u001b[1m242s\u001b[0m 367ms/step - accuracy: 0.9933 - loss: 0.0443 - top_k_accuracy: 1.0000 - val_accuracy: 0.7226 - val_loss: 2.0015 - val_top_k_accuracy: 1.0000 - learning_rate: 2.0000e-05\n",
      "Epoch 14/120\n",
      "\u001b[1m659/659\u001b[0m \u001b[32m━━━━━━━━━━━━━━━━━━━━\u001b[0m\u001b[37m\u001b[0m \u001b[1m233s\u001b[0m 354ms/step - accuracy: 0.9938 - loss: 0.0385 - top_k_accuracy: 1.0000 - val_accuracy: 0.7175 - val_loss: 2.0039 - val_top_k_accuracy: 1.0000 - learning_rate: 2.0000e-05\n",
      "Epoch 15/120\n",
      "\u001b[1m659/659\u001b[0m \u001b[32m━━━━━━━━━━━━━━━━━━━━\u001b[0m\u001b[37m\u001b[0m \u001b[1m225s\u001b[0m 342ms/step - accuracy: 0.9952 - loss: 0.0357 - top_k_accuracy: 1.0000 - val_accuracy: 0.7160 - val_loss: 2.1859 - val_top_k_accuracy: 1.0000 - learning_rate: 2.0000e-05\n",
      "Epoch 16/120\n",
      "\u001b[1m659/659\u001b[0m \u001b[32m━━━━━━━━━━━━━━━━━━━━\u001b[0m\u001b[37m\u001b[0m \u001b[1m226s\u001b[0m 344ms/step - accuracy: 0.9959 - loss: 0.0324 - top_k_accuracy: 1.0000 - val_accuracy: 0.7210 - val_loss: 2.3119 - val_top_k_accuracy: 1.0000 - learning_rate: 4.0000e-06\n",
      "Epoch 17/120\n",
      "\u001b[1m659/659\u001b[0m \u001b[32m━━━━━━━━━━━━━━━━━━━━\u001b[0m\u001b[37m\u001b[0m \u001b[1m234s\u001b[0m 354ms/step - accuracy: 0.9979 - loss: 0.0244 - top_k_accuracy: 1.0000 - val_accuracy: 0.7218 - val_loss: 2.4692 - val_top_k_accuracy: 1.0000 - learning_rate: 4.0000e-06\n",
      "Epoch 18/120\n",
      "\u001b[1m659/659\u001b[0m \u001b[32m━━━━━━━━━━━━━━━━━━━━\u001b[0m\u001b[37m\u001b[0m \u001b[1m232s\u001b[0m 352ms/step - accuracy: 0.9983 - loss: 0.0225 - top_k_accuracy: 1.0000 - val_accuracy: 0.7212 - val_loss: 2.5822 - val_top_k_accuracy: 1.0000 - learning_rate: 4.0000e-06\n",
      "Epoch 19/120\n",
      "\u001b[1m659/659\u001b[0m \u001b[32m━━━━━━━━━━━━━━━━━━━━\u001b[0m\u001b[37m\u001b[0m \u001b[1m232s\u001b[0m 352ms/step - accuracy: 0.9981 - loss: 0.0219 - top_k_accuracy: 1.0000 - val_accuracy: 0.7245 - val_loss: 2.6337 - val_top_k_accuracy: 1.0000 - learning_rate: 4.0000e-06\n",
      "Epoch 20/120\n",
      "\u001b[1m659/659\u001b[0m \u001b[32m━━━━━━━━━━━━━━━━━━━━\u001b[0m\u001b[37m\u001b[0m \u001b[1m228s\u001b[0m 346ms/step - accuracy: 0.9989 - loss: 0.0209 - top_k_accuracy: 1.0000 - val_accuracy: 0.7222 - val_loss: 2.6112 - val_top_k_accuracy: 1.0000 - learning_rate: 4.0000e-06\n",
      "Epoch 21/120\n",
      "\u001b[1m659/659\u001b[0m \u001b[32m━━━━━━━━━━━━━━━━━━━━\u001b[0m\u001b[37m\u001b[0m \u001b[1m225s\u001b[0m 341ms/step - accuracy: 0.9986 - loss: 0.0194 - top_k_accuracy: 1.0000 - val_accuracy: 0.7222 - val_loss: 2.6683 - val_top_k_accuracy: 1.0000 - learning_rate: 8.0000e-07\n",
      "Epoch 22/120\n",
      "\u001b[1m659/659\u001b[0m \u001b[32m━━━━━━━━━━━━━━━━━━━━\u001b[0m\u001b[37m\u001b[0m \u001b[1m228s\u001b[0m 346ms/step - accuracy: 0.9988 - loss: 0.0187 - top_k_accuracy: 1.0000 - val_accuracy: 0.7224 - val_loss: 2.7362 - val_top_k_accuracy: 1.0000 - learning_rate: 8.0000e-07\n",
      "Epoch 23/120\n",
      "\u001b[1m659/659\u001b[0m \u001b[32m━━━━━━━━━━━━━━━━━━━━\u001b[0m\u001b[37m\u001b[0m \u001b[1m231s\u001b[0m 350ms/step - accuracy: 0.9987 - loss: 0.0185 - top_k_accuracy: 1.0000 - val_accuracy: 0.7220 - val_loss: 2.8096 - val_top_k_accuracy: 1.0000 - learning_rate: 8.0000e-07\n",
      "Epoch 24/120\n",
      "\u001b[1m659/659\u001b[0m \u001b[32m━━━━━━━━━━━━━━━━━━━━\u001b[0m\u001b[37m\u001b[0m \u001b[1m228s\u001b[0m 346ms/step - accuracy: 0.9989 - loss: 0.0181 - top_k_accuracy: 1.0000 - val_accuracy: 0.7210 - val_loss: 2.8760 - val_top_k_accuracy: 1.0000 - learning_rate: 8.0000e-07\n",
      "Epoch 25/120\n",
      "\u001b[1m659/659\u001b[0m \u001b[32m━━━━━━━━━━━━━━━━━━━━\u001b[0m\u001b[37m\u001b[0m \u001b[1m228s\u001b[0m 347ms/step - accuracy: 0.9988 - loss: 0.0182 - top_k_accuracy: 1.0000 - val_accuracy: 0.7226 - val_loss: 2.9349 - val_top_k_accuracy: 1.0000 - learning_rate: 8.0000e-07\n"
     ]
    }
   ],
   "source": [
    "from tensorflow.keras.callbacks import ReduceLROnPlateau, EarlyStopping\n",
    "\n",
    "reduce_lr = ReduceLROnPlateau(monitor='val_loss', factor=0.2, patience=5, min_lr=2e-7) \n",
    "early_stopping = EarlyStopping(monitor='val_loss', patience=20, restore_best_weights=True)\n",
    "\n",
    "history = model.fit(\n",
    "    train_dataset,\n",
    "    validation_data=validation_dataset, \n",
    "\n",
    "    batch_size=32,\n",
    "    epochs=120,\n",
    "    verbose=1,\n",
    "    callbacks=[early_stopping, reduce_lr]\n",
    ")"
   ]
  },
  {
   "cell_type": "code",
   "execution_count": 37,
   "metadata": {},
   "outputs": [
    {
     "name": "stdout",
     "output_type": "stream",
     "text": [
      "\u001b[1m5140/5140\u001b[0m \u001b[32m━━━━━━━━━━━━━━━━━━━━\u001b[0m\u001b[37m\u001b[0m \u001b[1m72s\u001b[0m 14ms/step - accuracy: 0.6893 - loss: 0.8405 - top_k_accuracy: 1.0000\n",
      "Test loss: 0.8409062027931213\n",
      "Test accuracy: 0.6951361894607544\n",
      "Test top_k accuracy: 1.0\n"
     ]
    }
   ],
   "source": [
    "loss, accuracy, top_k_accuracy = model.evaluate(validation_dataset)\n",
    "print('Test loss:', loss)\n",
    "print('Test accuracy:', accuracy)\n",
    "print('Test top_k accuracy:', top_k_accuracy)"
   ]
  },
  {
   "cell_type": "code",
   "execution_count": 38,
   "metadata": {},
   "outputs": [
    {
     "name": "stderr",
     "output_type": "stream",
     "text": [
      "WARNING:absl:You are saving your model as an HDF5 file via `model.save()` or `keras.saving.save_model(model)`. This file format is considered legacy. We recommend using instead the native Keras format, e.g. `model.save('my_model.keras')` or `keras.saving.save_model(model, 'my_model.keras')`. \n"
     ]
    }
   ],
   "source": [
    "model.save('72_accuracy_model_images.h5')"
   ]
  },
  {
   "cell_type": "code",
   "execution_count": 30,
   "metadata": {},
   "outputs": [
    {
     "name": "stdout",
     "output_type": "stream",
     "text": [
      "Epoch 1/100\n"
     ]
    },
    {
     "name": "stdout",
     "output_type": "stream",
     "text": [
      "\u001b[1m659/659\u001b[0m \u001b[32m━━━━━━━━━━━━━━━━━━━━\u001b[0m\u001b[37m\u001b[0m \u001b[1m577s\u001b[0m 792ms/step - accuracy: 0.7633 - loss: 0.6084 - top_k_accuracy: 1.0000 - val_accuracy: 0.6932 - val_loss: 0.8380 - val_top_k_accuracy: 1.0000 - learning_rate: 1.0000e-12\n",
      "Epoch 2/100\n",
      "\u001b[1m659/659\u001b[0m \u001b[32m━━━━━━━━━━━━━━━━━━━━\u001b[0m\u001b[37m\u001b[0m \u001b[1m456s\u001b[0m 692ms/step - accuracy: 0.7883 - loss: 0.6098 - top_k_accuracy: 1.0000 - val_accuracy: 0.6932 - val_loss: 0.8380 - val_top_k_accuracy: 1.0000 - learning_rate: 1.0000e-12\n",
      "Epoch 3/100\n",
      "\u001b[1m659/659\u001b[0m \u001b[32m━━━━━━━━━━━━━━━━━━━━\u001b[0m\u001b[37m\u001b[0m \u001b[1m452s\u001b[0m 686ms/step - accuracy: 0.7886 - loss: 0.6087 - top_k_accuracy: 1.0000 - val_accuracy: 0.6932 - val_loss: 0.8380 - val_top_k_accuracy: 1.0000 - learning_rate: 1.0000e-12\n",
      "Epoch 4/100\n",
      "\u001b[1m659/659\u001b[0m \u001b[32m━━━━━━━━━━━━━━━━━━━━\u001b[0m\u001b[37m\u001b[0m \u001b[1m491s\u001b[0m 746ms/step - accuracy: 0.7885 - loss: 0.6100 - top_k_accuracy: 1.0000 - val_accuracy: 0.6932 - val_loss: 0.8380 - val_top_k_accuracy: 1.0000 - learning_rate: 1.0000e-12\n",
      "Epoch 5/100\n",
      "\u001b[1m659/659\u001b[0m \u001b[32m━━━━━━━━━━━━━━━━━━━━\u001b[0m\u001b[37m\u001b[0m \u001b[1m501s\u001b[0m 760ms/step - accuracy: 0.7893 - loss: 0.6092 - top_k_accuracy: 1.0000 - val_accuracy: 0.6932 - val_loss: 0.8380 - val_top_k_accuracy: 1.0000 - learning_rate: 1.0000e-12\n",
      "Epoch 6/100\n",
      "\u001b[1m659/659\u001b[0m \u001b[32m━━━━━━━━━━━━━━━━━━━━\u001b[0m\u001b[37m\u001b[0m \u001b[1m479s\u001b[0m 727ms/step - accuracy: 0.7881 - loss: 0.6109 - top_k_accuracy: 1.0000 - val_accuracy: 0.6932 - val_loss: 0.8380 - val_top_k_accuracy: 1.0000 - learning_rate: 1.0000e-12\n",
      "Epoch 7/100\n",
      "\u001b[1m659/659\u001b[0m \u001b[32m━━━━━━━━━━━━━━━━━━━━\u001b[0m\u001b[37m\u001b[0m \u001b[1m459s\u001b[0m 698ms/step - accuracy: 0.7881 - loss: 0.6109 - top_k_accuracy: 1.0000 - val_accuracy: 0.6932 - val_loss: 0.8380 - val_top_k_accuracy: 1.0000 - learning_rate: 1.0000e-12\n",
      "Epoch 8/100\n",
      "\u001b[1m659/659\u001b[0m \u001b[32m━━━━━━━━━━━━━━━━━━━━\u001b[0m\u001b[37m\u001b[0m \u001b[1m540s\u001b[0m 755ms/step - accuracy: 0.7881 - loss: 0.6101 - top_k_accuracy: 1.0000 - val_accuracy: 0.6932 - val_loss: 0.8380 - val_top_k_accuracy: 1.0000 - learning_rate: 1.0000e-12\n",
      "Epoch 9/100\n",
      "\u001b[1m659/659\u001b[0m \u001b[32m━━━━━━━━━━━━━━━━━━━━\u001b[0m\u001b[37m\u001b[0m \u001b[1m498s\u001b[0m 756ms/step - accuracy: 0.7876 - loss: 0.6117 - top_k_accuracy: 1.0000 - val_accuracy: 0.6932 - val_loss: 0.8380 - val_top_k_accuracy: 1.0000 - learning_rate: 1.0000e-12\n",
      "Epoch 10/100\n",
      "\u001b[1m659/659\u001b[0m \u001b[32m━━━━━━━━━━━━━━━━━━━━\u001b[0m\u001b[37m\u001b[0m \u001b[1m442s\u001b[0m 671ms/step - accuracy: 0.7885 - loss: 0.6101 - top_k_accuracy: 1.0000 - val_accuracy: 0.6932 - val_loss: 0.8380 - val_top_k_accuracy: 1.0000 - learning_rate: 1.0000e-12\n",
      "Epoch 11/100\n",
      "\u001b[1m659/659\u001b[0m \u001b[32m━━━━━━━━━━━━━━━━━━━━\u001b[0m\u001b[37m\u001b[0m \u001b[1m472s\u001b[0m 716ms/step - accuracy: 0.7889 - loss: 0.6095 - top_k_accuracy: 1.0000 - val_accuracy: 0.6932 - val_loss: 0.8380 - val_top_k_accuracy: 1.0000 - learning_rate: 1.0000e-12\n",
      "Epoch 12/100\n",
      "\u001b[1m659/659\u001b[0m \u001b[32m━━━━━━━━━━━━━━━━━━━━\u001b[0m\u001b[37m\u001b[0m \u001b[1m499s\u001b[0m 757ms/step - accuracy: 0.7885 - loss: 0.6098 - top_k_accuracy: 1.0000 - val_accuracy: 0.6932 - val_loss: 0.8380 - val_top_k_accuracy: 1.0000 - learning_rate: 1.0000e-12\n",
      "Epoch 13/100\n",
      "\u001b[1m659/659\u001b[0m \u001b[32m━━━━━━━━━━━━━━━━━━━━\u001b[0m\u001b[37m\u001b[0m \u001b[1m504s\u001b[0m 765ms/step - accuracy: 0.7879 - loss: 0.6106 - top_k_accuracy: 1.0000 - val_accuracy: 0.6932 - val_loss: 0.8380 - val_top_k_accuracy: 1.0000 - learning_rate: 1.0000e-12\n",
      "Epoch 14/100\n",
      "\u001b[1m659/659\u001b[0m \u001b[32m━━━━━━━━━━━━━━━━━━━━\u001b[0m\u001b[37m\u001b[0m \u001b[1m462s\u001b[0m 701ms/step - accuracy: 0.7887 - loss: 0.6093 - top_k_accuracy: 1.0000 - val_accuracy: 0.6932 - val_loss: 0.8380 - val_top_k_accuracy: 1.0000 - learning_rate: 1.0000e-12\n",
      "Epoch 15/100\n",
      "\u001b[1m659/659\u001b[0m \u001b[32m━━━━━━━━━━━━━━━━━━━━\u001b[0m\u001b[37m\u001b[0m \u001b[1m460s\u001b[0m 699ms/step - accuracy: 0.7886 - loss: 0.6091 - top_k_accuracy: 1.0000 - val_accuracy: 0.6932 - val_loss: 0.8380 - val_top_k_accuracy: 1.0000 - learning_rate: 1.0000e-12\n",
      "Epoch 16/100\n",
      "\u001b[1m659/659\u001b[0m \u001b[32m━━━━━━━━━━━━━━━━━━━━\u001b[0m\u001b[37m\u001b[0m \u001b[1m497s\u001b[0m 755ms/step - accuracy: 0.7886 - loss: 0.6103 - top_k_accuracy: 1.0000 - val_accuracy: 0.6932 - val_loss: 0.8380 - val_top_k_accuracy: 1.0000 - learning_rate: 1.0000e-12\n",
      "Epoch 17/100\n",
      "\u001b[1m659/659\u001b[0m \u001b[32m━━━━━━━━━━━━━━━━━━━━\u001b[0m\u001b[37m\u001b[0m \u001b[1m503s\u001b[0m 764ms/step - accuracy: 0.7884 - loss: 0.6103 - top_k_accuracy: 1.0000 - val_accuracy: 0.6932 - val_loss: 0.8380 - val_top_k_accuracy: 1.0000 - learning_rate: 1.0000e-12\n",
      "Epoch 18/100\n",
      "\u001b[1m659/659\u001b[0m \u001b[32m━━━━━━━━━━━━━━━━━━━━\u001b[0m\u001b[37m\u001b[0m \u001b[1m452s\u001b[0m 686ms/step - accuracy: 0.7881 - loss: 0.6101 - top_k_accuracy: 1.0000 - val_accuracy: 0.6932 - val_loss: 0.8380 - val_top_k_accuracy: 1.0000 - learning_rate: 1.0000e-12\n",
      "Epoch 19/100\n",
      "\u001b[1m659/659\u001b[0m \u001b[32m━━━━━━━━━━━━━━━━━━━━\u001b[0m\u001b[37m\u001b[0m \u001b[1m456s\u001b[0m 692ms/step - accuracy: 0.7891 - loss: 0.6083 - top_k_accuracy: 1.0000 - val_accuracy: 0.6932 - val_loss: 0.8380 - val_top_k_accuracy: 1.0000 - learning_rate: 1.0000e-12\n",
      "Epoch 20/100\n",
      "\u001b[1m659/659\u001b[0m \u001b[32m━━━━━━━━━━━━━━━━━━━━\u001b[0m\u001b[37m\u001b[0m \u001b[1m495s\u001b[0m 751ms/step - accuracy: 0.7882 - loss: 0.6116 - top_k_accuracy: 1.0000 - val_accuracy: 0.6932 - val_loss: 0.8380 - val_top_k_accuracy: 1.0000 - learning_rate: 1.0000e-12\n",
      "Epoch 21/100\n",
      "\u001b[1m659/659\u001b[0m \u001b[32m━━━━━━━━━━━━━━━━━━━━\u001b[0m\u001b[37m\u001b[0m \u001b[1m503s\u001b[0m 764ms/step - accuracy: 0.7888 - loss: 0.6089 - top_k_accuracy: 1.0000 - val_accuracy: 0.6932 - val_loss: 0.8380 - val_top_k_accuracy: 1.0000 - learning_rate: 1.0000e-12\n",
      "Epoch 22/100\n",
      "\u001b[1m659/659\u001b[0m \u001b[32m━━━━━━━━━━━━━━━━━━━━\u001b[0m\u001b[37m\u001b[0m \u001b[1m481s\u001b[0m 730ms/step - accuracy: 0.7891 - loss: 0.6087 - top_k_accuracy: 1.0000 - val_accuracy: 0.6932 - val_loss: 0.8380 - val_top_k_accuracy: 1.0000 - learning_rate: 1.0000e-12\n",
      "Epoch 23/100\n",
      "\u001b[1m659/659\u001b[0m \u001b[32m━━━━━━━━━━━━━━━━━━━━\u001b[0m\u001b[37m\u001b[0m \u001b[1m458s\u001b[0m 696ms/step - accuracy: 0.7894 - loss: 0.6092 - top_k_accuracy: 1.0000 - val_accuracy: 0.6932 - val_loss: 0.8380 - val_top_k_accuracy: 1.0000 - learning_rate: 1.0000e-12\n",
      "Epoch 24/100\n",
      "\u001b[1m659/659\u001b[0m \u001b[32m━━━━━━━━━━━━━━━━━━━━\u001b[0m\u001b[37m\u001b[0m \u001b[1m481s\u001b[0m 730ms/step - accuracy: 0.7893 - loss: 0.6081 - top_k_accuracy: 1.0000 - val_accuracy: 0.6932 - val_loss: 0.8380 - val_top_k_accuracy: 1.0000 - learning_rate: 1.0000e-12\n",
      "Epoch 25/100\n",
      "\u001b[1m659/659\u001b[0m \u001b[32m━━━━━━━━━━━━━━━━━━━━\u001b[0m\u001b[37m\u001b[0m \u001b[1m485s\u001b[0m 736ms/step - accuracy: 0.7887 - loss: 0.6098 - top_k_accuracy: 1.0000 - val_accuracy: 0.6932 - val_loss: 0.8380 - val_top_k_accuracy: 1.0000 - learning_rate: 1.0000e-12\n",
      "Epoch 26/100\n",
      "\u001b[1m659/659\u001b[0m \u001b[32m━━━━━━━━━━━━━━━━━━━━\u001b[0m\u001b[37m\u001b[0m \u001b[1m486s\u001b[0m 738ms/step - accuracy: 0.7887 - loss: 0.6086 - top_k_accuracy: 1.0000 - val_accuracy: 0.6932 - val_loss: 0.8380 - val_top_k_accuracy: 1.0000 - learning_rate: 1.0000e-12\n",
      "Epoch 27/100\n",
      "\u001b[1m659/659\u001b[0m \u001b[32m━━━━━━━━━━━━━━━━━━━━\u001b[0m\u001b[37m\u001b[0m \u001b[1m463s\u001b[0m 702ms/step - accuracy: 0.7894 - loss: 0.6093 - top_k_accuracy: 1.0000 - val_accuracy: 0.6932 - val_loss: 0.8380 - val_top_k_accuracy: 1.0000 - learning_rate: 1.0000e-12\n",
      "Epoch 28/100\n",
      "\u001b[1m659/659\u001b[0m \u001b[32m━━━━━━━━━━━━━━━━━━━━\u001b[0m\u001b[37m\u001b[0m \u001b[1m472s\u001b[0m 717ms/step - accuracy: 0.7883 - loss: 0.6103 - top_k_accuracy: 1.0000 - val_accuracy: 0.6932 - val_loss: 0.8380 - val_top_k_accuracy: 1.0000 - learning_rate: 1.0000e-12\n",
      "Epoch 29/100\n",
      "\u001b[1m659/659\u001b[0m \u001b[32m━━━━━━━━━━━━━━━━━━━━\u001b[0m\u001b[37m\u001b[0m \u001b[1m500s\u001b[0m 758ms/step - accuracy: 0.7880 - loss: 0.6104 - top_k_accuracy: 1.0000 - val_accuracy: 0.6932 - val_loss: 0.8380 - val_top_k_accuracy: 1.0000 - learning_rate: 1.0000e-12\n",
      "Epoch 30/100\n",
      "\u001b[1m659/659\u001b[0m \u001b[32m━━━━━━━━━━━━━━━━━━━━\u001b[0m\u001b[37m\u001b[0m \u001b[1m505s\u001b[0m 766ms/step - accuracy: 0.7884 - loss: 0.6095 - top_k_accuracy: 1.0000 - val_accuracy: 0.6932 - val_loss: 0.8380 - val_top_k_accuracy: 1.0000 - learning_rate: 1.0000e-12\n",
      "Epoch 31/100\n",
      "\u001b[1m659/659\u001b[0m \u001b[32m━━━━━━━━━━━━━━━━━━━━\u001b[0m\u001b[37m\u001b[0m \u001b[1m462s\u001b[0m 701ms/step - accuracy: 0.7878 - loss: 0.6116 - top_k_accuracy: 1.0000 - val_accuracy: 0.6932 - val_loss: 0.8380 - val_top_k_accuracy: 1.0000 - learning_rate: 1.0000e-12\n",
      "Epoch 32/100\n",
      "\u001b[1m659/659\u001b[0m \u001b[32m━━━━━━━━━━━━━━━━━━━━\u001b[0m\u001b[37m\u001b[0m \u001b[1m459s\u001b[0m 697ms/step - accuracy: 0.7887 - loss: 0.6097 - top_k_accuracy: 1.0000 - val_accuracy: 0.6932 - val_loss: 0.8380 - val_top_k_accuracy: 1.0000 - learning_rate: 1.0000e-12\n",
      "Epoch 33/100\n",
      "\u001b[1m659/659\u001b[0m \u001b[32m━━━━━━━━━━━━━━━━━━━━\u001b[0m\u001b[37m\u001b[0m \u001b[1m474s\u001b[0m 720ms/step - accuracy: 0.7879 - loss: 0.6105 - top_k_accuracy: 1.0000 - val_accuracy: 0.6932 - val_loss: 0.8380 - val_top_k_accuracy: 1.0000 - learning_rate: 1.0000e-12\n",
      "Epoch 34/100\n",
      "\u001b[1m659/659\u001b[0m \u001b[32m━━━━━━━━━━━━━━━━━━━━\u001b[0m\u001b[37m\u001b[0m \u001b[1m504s\u001b[0m 765ms/step - accuracy: 0.7889 - loss: 0.6086 - top_k_accuracy: 1.0000 - val_accuracy: 0.6932 - val_loss: 0.8380 - val_top_k_accuracy: 1.0000 - learning_rate: 1.0000e-12\n",
      "Epoch 35/100\n",
      "\u001b[1m659/659\u001b[0m \u001b[32m━━━━━━━━━━━━━━━━━━━━\u001b[0m\u001b[37m\u001b[0m \u001b[1m475s\u001b[0m 720ms/step - accuracy: 0.7889 - loss: 0.6086 - top_k_accuracy: 1.0000 - val_accuracy: 0.6932 - val_loss: 0.8380 - val_top_k_accuracy: 1.0000 - learning_rate: 1.0000e-12\n",
      "Epoch 36/100\n",
      "\u001b[1m659/659\u001b[0m \u001b[32m━━━━━━━━━━━━━━━━━━━━\u001b[0m\u001b[37m\u001b[0m \u001b[1m458s\u001b[0m 696ms/step - accuracy: 0.7879 - loss: 0.6105 - top_k_accuracy: 1.0000 - val_accuracy: 0.6932 - val_loss: 0.8380 - val_top_k_accuracy: 1.0000 - learning_rate: 1.0000e-12\n",
      "Epoch 37/100\n",
      "\u001b[1m659/659\u001b[0m \u001b[32m━━━━━━━━━━━━━━━━━━━━\u001b[0m\u001b[37m\u001b[0m \u001b[1m486s\u001b[0m 737ms/step - accuracy: 0.7880 - loss: 0.6106 - top_k_accuracy: 1.0000 - val_accuracy: 0.6932 - val_loss: 0.8380 - val_top_k_accuracy: 1.0000 - learning_rate: 1.0000e-12\n",
      "Epoch 38/100\n",
      "\u001b[1m659/659\u001b[0m \u001b[32m━━━━━━━━━━━━━━━━━━━━\u001b[0m\u001b[37m\u001b[0m \u001b[1m499s\u001b[0m 758ms/step - accuracy: 0.7884 - loss: 0.6106 - top_k_accuracy: 1.0000 - val_accuracy: 0.6932 - val_loss: 0.8380 - val_top_k_accuracy: 1.0000 - learning_rate: 1.0000e-12\n",
      "Epoch 39/100\n",
      "\u001b[1m659/659\u001b[0m \u001b[32m━━━━━━━━━━━━━━━━━━━━\u001b[0m\u001b[37m\u001b[0m \u001b[1m488s\u001b[0m 740ms/step - accuracy: 0.7887 - loss: 0.6103 - top_k_accuracy: 1.0000 - val_accuracy: 0.6932 - val_loss: 0.8380 - val_top_k_accuracy: 1.0000 - learning_rate: 1.0000e-12\n",
      "Epoch 40/100\n",
      "\u001b[1m659/659\u001b[0m \u001b[32m━━━━━━━━━━━━━━━━━━━━\u001b[0m\u001b[37m\u001b[0m \u001b[1m460s\u001b[0m 698ms/step - accuracy: 0.7876 - loss: 0.6108 - top_k_accuracy: 1.0000 - val_accuracy: 0.6932 - val_loss: 0.8380 - val_top_k_accuracy: 1.0000 - learning_rate: 1.0000e-12\n",
      "Epoch 41/100\n",
      "\u001b[1m659/659\u001b[0m \u001b[32m━━━━━━━━━━━━━━━━━━━━\u001b[0m\u001b[37m\u001b[0m \u001b[1m454s\u001b[0m 688ms/step - accuracy: 0.7881 - loss: 0.6112 - top_k_accuracy: 1.0000 - val_accuracy: 0.6932 - val_loss: 0.8380 - val_top_k_accuracy: 1.0000 - learning_rate: 1.0000e-12\n",
      "Epoch 42/100\n",
      "\u001b[1m659/659\u001b[0m \u001b[32m━━━━━━━━━━━━━━━━━━━━\u001b[0m\u001b[37m\u001b[0m \u001b[1m499s\u001b[0m 757ms/step - accuracy: 0.7879 - loss: 0.6103 - top_k_accuracy: 1.0000 - val_accuracy: 0.6932 - val_loss: 0.8380 - val_top_k_accuracy: 1.0000 - learning_rate: 1.0000e-12\n",
      "Epoch 43/100\n",
      "\u001b[1m659/659\u001b[0m \u001b[32m━━━━━━━━━━━━━━━━━━━━\u001b[0m\u001b[37m\u001b[0m \u001b[1m501s\u001b[0m 760ms/step - accuracy: 0.7883 - loss: 0.6105 - top_k_accuracy: 1.0000 - val_accuracy: 0.6932 - val_loss: 0.8380 - val_top_k_accuracy: 1.0000 - learning_rate: 1.0000e-12\n",
      "Epoch 44/100\n",
      "\u001b[1m659/659\u001b[0m \u001b[32m━━━━━━━━━━━━━━━━━━━━\u001b[0m\u001b[37m\u001b[0m \u001b[1m461s\u001b[0m 700ms/step - accuracy: 0.7888 - loss: 0.6090 - top_k_accuracy: 1.0000 - val_accuracy: 0.6932 - val_loss: 0.8380 - val_top_k_accuracy: 1.0000 - learning_rate: 1.0000e-12\n",
      "Epoch 45/100\n",
      "\u001b[1m659/659\u001b[0m \u001b[32m━━━━━━━━━━━━━━━━━━━━\u001b[0m\u001b[37m\u001b[0m \u001b[1m459s\u001b[0m 697ms/step - accuracy: 0.7890 - loss: 0.6091 - top_k_accuracy: 1.0000 - val_accuracy: 0.6932 - val_loss: 0.8380 - val_top_k_accuracy: 1.0000 - learning_rate: 1.0000e-12\n",
      "Epoch 46/100\n",
      "\u001b[1m659/659\u001b[0m \u001b[32m━━━━━━━━━━━━━━━━━━━━\u001b[0m\u001b[37m\u001b[0m \u001b[1m499s\u001b[0m 758ms/step - accuracy: 0.7891 - loss: 0.6091 - top_k_accuracy: 1.0000 - val_accuracy: 0.6932 - val_loss: 0.8380 - val_top_k_accuracy: 1.0000 - learning_rate: 1.0000e-12\n"
     ]
    }
   ],
   "source": [
    "# from tensorflow.keras.optimizers import SGD\n",
    "# # Unfreeze the top layers of the model\n",
    "for layer in model.layers[-20:]:\n",
    "    layer.trainable = True\n",
    "\n",
    "# reduce_lr = ReduceLROnPlateau(monitor='val_loss', factor=0.2, patience=5, min_lr=2e-10)\n",
    "model.compile(\n",
    "    optimizer=Adam(learning_rate=1e-12),  \n",
    "    loss=loss_function,\n",
    "    metrics=metrics,\n",
    ")\n",
    "# model.compile(optimizer=tf.keras.optimizers.Adam(1e-5), loss='categorical_crossentropy', metrics=['accuracy'])\n",
    "\n",
    "# Continue training\n",
    "history_fine = model.fit(\n",
    "    train_dataset,\n",
    "    validation_data=validation_dataset, \n",
    "\n",
    "    batch_size=32,\n",
    "    epochs=100,\n",
    "    # verbose=1,\n",
    "    callbacks=[early_stopping, reduce_lr]\n",
    ")\n"
   ]
  },
  {
   "cell_type": "code",
   "execution_count": 31,
   "metadata": {},
   "outputs": [
    {
     "name": "stdout",
     "output_type": "stream",
     "text": [
      "\u001b[1m5140/5140\u001b[0m \u001b[32m━━━━━━━━━━━━━━━━━━━━\u001b[0m\u001b[37m\u001b[0m \u001b[1m205s\u001b[0m 40ms/step - accuracy: 0.7039 - loss: 0.8183 - top_k_accuracy: 1.0000\n",
      "Test loss: 0.8379868268966675\n",
      "Test accuracy: 0.6931906342506409\n",
      "Test top_k accuracy: 1.0\n"
     ]
    }
   ],
   "source": [
    "# Evaluate the model on the validation dataset\n",
    "loss, accuracy, top_k_accuracy = model.evaluate(validation_dataset)\n",
    "print('Test loss:', loss)\n",
    "print('Test accuracy:', accuracy)\n",
    "print('Test top_k accuracy:', top_k_accuracy)"
   ]
  },
  {
   "cell_type": "code",
   "execution_count": 32,
   "metadata": {},
   "outputs": [
    {
     "data": {
      "image/png": "[encoded data removed]",
      "text/plain": [
       "<Figure size 1200x400 with 2 Axes>"
      ]
     },
     "metadata": {},
     "output_type": "display_data"
    }
   ],
   "source": [
    "import matplotlib.pyplot as plt\n",
    "\n",
    "def plot_history(history):\n",
    "    plt.figure(figsize=(12, 4))\n",
    "    \n",
    "    # Plot training & validation accuracy values\n",
    "    plt.subplot(1, 2, 1)\n",
    "    plt.plot(history.history['accuracy'])\n",
    "    plt.plot(history.history['val_accuracy'])\n",
    "    plt.title('Model accuracy')\n",
    "    plt.ylabel('Accuracy')\n",
    "    plt.xlabel('Epoch')\n",
    "    plt.legend(['Train', 'Validation'], loc='upper left')\n",
    "    \n",
    "    # Plot training & validation loss values\n",
    "    plt.subplot(1, 2, 2)\n",
    "    plt.plot(history.history['loss'])\n",
    "    plt.plot(history.history['val_loss'])\n",
    "    plt.title('Model loss')\n",
    "    plt.ylabel('Loss')\n",
    "    plt.xlabel('Epoch')\n",
    "    plt.legend(['Train', 'Validation'], loc='upper left')\n",
    "    \n",
    "    plt.show()\n",
    "\n",
    "plot_history(history_fine)\n"
   ]
  },
  {
   "cell_type": "code",
   "execution_count": 33,
   "metadata": {},
   "outputs": [
    {
     "name": "stderr",
     "output_type": "stream",
     "text": [
      "WARNING:absl:You are saving your model as an HDF5 file via `model.save()` or `keras.saving.save_model(model)`. This file format is considered legacy. We recommend using instead the native Keras format, e.g. `model.save('my_model.keras')` or `keras.saving.save_model(model, 'my_model.keras')`. \n"
     ]
    }
   ],
   "source": [
    "# Assuming 'model' is your trained model\n",
    "model.save('model_images.h5')  # You can use .h5 or no extension for SavedModel format\n"
   ]
  }
 ],
 "metadata": {
  "kernelspec": {
   "display_name": "Python 3",
   "language": "python",
   "name": "python3"
  },
  "language_info": {
   "codemirror_mode": {
    "name": "ipython",
    "version": 3
   },
   "file_extension": ".py",
   "mimetype": "text/x-python",
   "name": "python",
   "nbconvert_exporter": "python",
   "pygments_lexer": "ipython3",
   "version": "3.9.13"
  }
 },
 "nbformat": 4,
 "nbformat_minor": 2
}
