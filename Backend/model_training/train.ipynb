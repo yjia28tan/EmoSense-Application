{
 "cells": [
  {
   "cell_type": "code",
   "execution_count": 2,
   "metadata": {},
   "outputs": [
    {
     "name": "stdout",
     "output_type": "stream",
     "text": [
      "WARNING:tensorflow:From C:\\Users\\User\\anaconda3\\lib\\site-packages\\keras\\src\\losses.py:2976: The name tf.losses.sparse_softmax_cross_entropy is deprecated. Please use tf.compat.v1.losses.sparse_softmax_cross_entropy instead.\n",
      "\n"
     ]
    },
    {
     "name": "stderr",
     "output_type": "stream",
     "text": [
      "C:\\Users\\User\\anaconda3\\lib\\site-packages\\keras\\src\\preprocessing\\image.py:202: UserWarning: Using \".tiff\" files with multiple bands will cause distortion. Please verify your output.\n",
      "  warnings.warn(\n"
     ]
    },
    {
     "name": "stdout",
     "output_type": "stream",
     "text": [
      "Found 3002 images belonging to 7 classes.\n",
      "Found 286 images belonging to 7 classes.\n"
     ]
    }
   ],
   "source": [
    "import tensorflow as tf\n",
    "from tensorflow.keras.preprocessing.image import ImageDataGenerator\n",
    "from tensorflow.keras.applications.xception import Xception, preprocess_input\n",
    "\n",
    "IMAGE_SHAPE = (224, 224)\n",
    "\n",
    "# Define the data generators\n",
    "train_datagen = ImageDataGenerator(preprocessing_function=preprocess_input, validation_split=0.2)\n",
    "train_generator = train_datagen.flow_from_directory(\n",
    "    r\"C:\\Users\\User\\OneDrive\\Desktop\\EmoSense\\Face Emotion Recognition\\datasets\\train\",\n",
    "    target_size=IMAGE_SHAPE,\n",
    "    batch_size=64,\n",
    "    class_mode='categorical',\n",
    "    subset='training'\n",
    ")\n",
    "validation_generator = train_datagen.flow_from_directory(\n",
    "    r\"C:\\Users\\User\\OneDrive\\Desktop\\EmoSense\\Face Emotion Recognition\\datasets\\test\",\n",
    "    target_size=IMAGE_SHAPE,\n",
    "    batch_size=64,\n",
    "    class_mode='categorical',\n",
    "    subset='validation'\n",
    ")\n"
   ]
  },
  {
   "cell_type": "code",
   "execution_count": 3,
   "metadata": {},
   "outputs": [
    {
     "name": "stdout",
     "output_type": "stream",
     "text": [
      "WARNING:tensorflow:From C:\\Users\\User\\anaconda3\\lib\\site-packages\\keras\\src\\backend.py:1398: The name tf.executing_eagerly_outside_functions is deprecated. Please use tf.compat.v1.executing_eagerly_outside_functions instead.\n",
      "\n",
      "WARNING:tensorflow:From C:\\Users\\User\\anaconda3\\lib\\site-packages\\keras\\src\\layers\\normalization\\batch_normalization.py:979: The name tf.nn.fused_batch_norm is deprecated. Please use tf.compat.v1.nn.fused_batch_norm instead.\n",
      "\n",
      "WARNING:tensorflow:From C:\\Users\\User\\anaconda3\\lib\\site-packages\\keras\\src\\optimizers\\__init__.py:309: The name tf.train.Optimizer is deprecated. Please use tf.compat.v1.train.Optimizer instead.\n",
      "\n"
     ]
    }
   ],
   "source": [
    "base_model = Xception(weights='imagenet', include_top=False, input_shape=IMAGE_SHAPE+(3,))\n",
    "x = tf.keras.layers.GlobalAveragePooling2D()(base_model.output)\n",
    "x = tf.keras.layers.Dense(1024, activation='relu')(x)\n",
    "x = tf.keras.layers.Dropout(0.5)(x)\n",
    "output = tf.keras.layers.Dense(train_generator.num_classes, activation='softmax')(x)\n",
    "\n",
    "model = tf.keras.models.Model(inputs=base_model.input, outputs=output)\n",
    "\n",
    "# Freeze the base model\n",
    "for layer in base_model.layers:\n",
    "    layer.trainable = False\n",
    "\n",
    "model.compile(optimizer='adam', loss='categorical_crossentropy', metrics=['accuracy'])\n"
   ]
  },
  {
   "cell_type": "code",
   "execution_count": 4,
   "metadata": {
    "scrolled": false
   },
   "outputs": [
    {
     "name": "stdout",
     "output_type": "stream",
     "text": [
      "Epoch 1/60\n",
      "WARNING:tensorflow:From C:\\Users\\User\\anaconda3\\lib\\site-packages\\keras\\src\\utils\\tf_utils.py:492: The name tf.ragged.RaggedTensorValue is deprecated. Please use tf.compat.v1.ragged.RaggedTensorValue instead.\n",
      "\n",
      "WARNING:tensorflow:From C:\\Users\\User\\anaconda3\\lib\\site-packages\\keras\\src\\engine\\base_layer_utils.py:384: The name tf.executing_eagerly_outside_functions is deprecated. Please use tf.compat.v1.executing_eagerly_outside_functions instead.\n",
      "\n",
      "47/47 [==============================] - 252s 5s/step - loss: 1.7893 - accuracy: 0.3211 - val_loss: 1.5448 - val_accuracy: 0.4301\n",
      "Epoch 2/60\n",
      "47/47 [==============================] - 224s 5s/step - loss: 1.5143 - accuracy: 0.4324 - val_loss: 1.4577 - val_accuracy: 0.5035\n",
      "Epoch 3/60\n",
      "47/47 [==============================] - 214s 5s/step - loss: 1.4215 - accuracy: 0.4737 - val_loss: 1.4144 - val_accuracy: 0.4895\n",
      "Epoch 4/60\n",
      "47/47 [==============================] - 219s 5s/step - loss: 1.3251 - accuracy: 0.5073 - val_loss: 1.3962 - val_accuracy: 0.5175\n",
      "Epoch 5/60\n",
      "47/47 [==============================] - 218s 5s/step - loss: 1.2596 - accuracy: 0.5326 - val_loss: 1.3683 - val_accuracy: 0.5035\n",
      "Epoch 6/60\n",
      "47/47 [==============================] - 214s 5s/step - loss: 1.1782 - accuracy: 0.5753 - val_loss: 1.4221 - val_accuracy: 0.4965\n",
      "Epoch 7/60\n",
      "47/47 [==============================] - 218s 5s/step - loss: 1.1143 - accuracy: 0.5913 - val_loss: 1.3679 - val_accuracy: 0.5350\n",
      "Epoch 8/60\n",
      "47/47 [==============================] - 218s 5s/step - loss: 1.0430 - accuracy: 0.6286 - val_loss: 1.3483 - val_accuracy: 0.5420\n",
      "Epoch 9/60\n",
      "47/47 [==============================] - 216s 5s/step - loss: 0.9876 - accuracy: 0.6519 - val_loss: 1.3338 - val_accuracy: 0.5385\n",
      "Epoch 10/60\n",
      "47/47 [==============================] - 222s 5s/step - loss: 0.9398 - accuracy: 0.6765 - val_loss: 1.3616 - val_accuracy: 0.5350\n",
      "Epoch 11/60\n",
      "47/47 [==============================] - 224s 5s/step - loss: 0.9030 - accuracy: 0.6865 - val_loss: 1.3329 - val_accuracy: 0.5559\n",
      "Epoch 12/60\n",
      "47/47 [==============================] - 223s 5s/step - loss: 0.8221 - accuracy: 0.7182 - val_loss: 1.3397 - val_accuracy: 0.5594\n",
      "Epoch 13/60\n",
      "47/47 [==============================] - 220s 5s/step - loss: 0.7859 - accuracy: 0.7312 - val_loss: 1.3506 - val_accuracy: 0.5350\n",
      "Epoch 14/60\n",
      "47/47 [==============================] - 221s 5s/step - loss: 0.7213 - accuracy: 0.7642 - val_loss: 1.3951 - val_accuracy: 0.5490\n",
      "Epoch 15/60\n",
      "47/47 [==============================] - 220s 5s/step - loss: 0.6823 - accuracy: 0.7685 - val_loss: 1.3648 - val_accuracy: 0.5524\n",
      "Epoch 16/60\n",
      "47/47 [==============================] - 220s 5s/step - loss: 0.6558 - accuracy: 0.7865 - val_loss: 1.4091 - val_accuracy: 0.5769\n",
      "Epoch 17/60\n",
      "47/47 [==============================] - 221s 5s/step - loss: 0.5937 - accuracy: 0.8028 - val_loss: 1.4056 - val_accuracy: 0.5455\n",
      "Epoch 18/60\n",
      "47/47 [==============================] - 230s 5s/step - loss: 0.5697 - accuracy: 0.8111 - val_loss: 1.4539 - val_accuracy: 0.5490\n",
      "Epoch 19/60\n",
      "47/47 [==============================] - 259s 6s/step - loss: 0.5341 - accuracy: 0.8254 - val_loss: 1.4583 - val_accuracy: 0.5664\n",
      "Epoch 20/60\n",
      "47/47 [==============================] - 228s 5s/step - loss: 0.5455 - accuracy: 0.8191 - val_loss: 1.4140 - val_accuracy: 0.5909\n",
      "Epoch 21/60\n",
      "47/47 [==============================] - 218s 5s/step - loss: 0.4798 - accuracy: 0.8431 - val_loss: 1.4689 - val_accuracy: 0.5664\n",
      "Epoch 22/60\n",
      "47/47 [==============================] - 233s 5s/step - loss: 0.4311 - accuracy: 0.8651 - val_loss: 1.4578 - val_accuracy: 0.5769\n",
      "Epoch 23/60\n",
      "47/47 [==============================] - 217s 5s/step - loss: 0.4207 - accuracy: 0.8681 - val_loss: 1.5395 - val_accuracy: 0.5594\n",
      "Epoch 24/60\n",
      "47/47 [==============================] - 217s 5s/step - loss: 0.3894 - accuracy: 0.8784 - val_loss: 1.4768 - val_accuracy: 0.5944\n",
      "Epoch 25/60\n",
      "47/47 [==============================] - 216s 5s/step - loss: 0.3630 - accuracy: 0.8914 - val_loss: 1.5271 - val_accuracy: 0.5594\n",
      "Epoch 26/60\n",
      "47/47 [==============================] - 245s 5s/step - loss: 0.3441 - accuracy: 0.8954 - val_loss: 1.5633 - val_accuracy: 0.5699\n",
      "Epoch 27/60\n",
      "47/47 [==============================] - 259s 6s/step - loss: 0.3245 - accuracy: 0.9071 - val_loss: 1.6174 - val_accuracy: 0.5559\n",
      "Epoch 28/60\n",
      "47/47 [==============================] - 259s 6s/step - loss: 0.3093 - accuracy: 0.9101 - val_loss: 1.6537 - val_accuracy: 0.5839\n",
      "Epoch 29/60\n",
      "47/47 [==============================] - 285s 6s/step - loss: 0.2804 - accuracy: 0.9247 - val_loss: 1.6356 - val_accuracy: 0.5559\n",
      "Epoch 30/60\n",
      "47/47 [==============================] - 339s 7s/step - loss: 0.2563 - accuracy: 0.9284 - val_loss: 1.6658 - val_accuracy: 0.5874\n",
      "Epoch 31/60\n",
      "47/47 [==============================] - 288s 6s/step - loss: 0.2403 - accuracy: 0.9357 - val_loss: 1.6955 - val_accuracy: 0.5769\n",
      "Epoch 32/60\n",
      "47/47 [==============================] - 224s 5s/step - loss: 0.2368 - accuracy: 0.9254 - val_loss: 1.6327 - val_accuracy: 0.5839\n",
      "Epoch 33/60\n",
      "47/47 [==============================] - 218s 5s/step - loss: 0.2153 - accuracy: 0.9387 - val_loss: 1.7221 - val_accuracy: 0.5944\n",
      "Epoch 34/60\n",
      "47/47 [==============================] - 220s 5s/step - loss: 0.1909 - accuracy: 0.9527 - val_loss: 1.7368 - val_accuracy: 0.5559\n",
      "Epoch 35/60\n",
      "47/47 [==============================] - 217s 5s/step - loss: 0.1855 - accuracy: 0.9527 - val_loss: 1.7959 - val_accuracy: 0.5804\n",
      "Epoch 36/60\n",
      "47/47 [==============================] - 215s 5s/step - loss: 0.1830 - accuracy: 0.9507 - val_loss: 1.7467 - val_accuracy: 0.5769\n",
      "Epoch 37/60\n",
      "47/47 [==============================] - 217s 5s/step - loss: 0.1703 - accuracy: 0.9527 - val_loss: 1.7824 - val_accuracy: 0.5944\n",
      "Epoch 38/60\n",
      "47/47 [==============================] - 217s 5s/step - loss: 0.1520 - accuracy: 0.9677 - val_loss: 1.7656 - val_accuracy: 0.5839\n",
      "Epoch 39/60\n",
      "47/47 [==============================] - 216s 5s/step - loss: 0.1528 - accuracy: 0.9627 - val_loss: 1.9070 - val_accuracy: 0.5559\n",
      "Epoch 40/60\n",
      "47/47 [==============================] - 215s 5s/step - loss: 0.1470 - accuracy: 0.9624 - val_loss: 1.8868 - val_accuracy: 0.5734\n",
      "Epoch 41/60\n",
      "47/47 [==============================] - 215s 5s/step - loss: 0.1246 - accuracy: 0.9744 - val_loss: 1.9580 - val_accuracy: 0.5804\n",
      "Epoch 42/60\n",
      "47/47 [==============================] - 215s 5s/step - loss: 0.1191 - accuracy: 0.9687 - val_loss: 1.8614 - val_accuracy: 0.5874\n",
      "Epoch 43/60\n",
      "47/47 [==============================] - 211s 4s/step - loss: 0.1147 - accuracy: 0.9763 - val_loss: 1.9541 - val_accuracy: 0.5874\n",
      "Epoch 44/60\n",
      "47/47 [==============================] - 215s 5s/step - loss: 0.1112 - accuracy: 0.9767 - val_loss: 2.1038 - val_accuracy: 0.5804\n",
      "Epoch 45/60\n",
      "47/47 [==============================] - 214s 5s/step - loss: 0.0966 - accuracy: 0.9803 - val_loss: 1.9791 - val_accuracy: 0.5839\n",
      "Epoch 46/60\n",
      "47/47 [==============================] - 214s 5s/step - loss: 0.1093 - accuracy: 0.9737 - val_loss: 1.9533 - val_accuracy: 0.5664\n",
      "Epoch 47/60\n",
      "47/47 [==============================] - 211s 4s/step - loss: 0.0984 - accuracy: 0.9747 - val_loss: 2.0325 - val_accuracy: 0.5524\n",
      "Epoch 48/60\n",
      "47/47 [==============================] - 212s 5s/step - loss: 0.0930 - accuracy: 0.9787 - val_loss: 1.9874 - val_accuracy: 0.5559\n",
      "Epoch 49/60\n",
      "47/47 [==============================] - 214s 5s/step - loss: 0.0921 - accuracy: 0.9807 - val_loss: 2.0537 - val_accuracy: 0.5594\n",
      "Epoch 50/60\n",
      "47/47 [==============================] - 212s 5s/step - loss: 0.0929 - accuracy: 0.9790 - val_loss: 1.9680 - val_accuracy: 0.5874\n",
      "Epoch 51/60\n",
      "47/47 [==============================] - 218s 5s/step - loss: 0.0859 - accuracy: 0.9830 - val_loss: 2.1678 - val_accuracy: 0.5699\n",
      "Epoch 52/60\n",
      "47/47 [==============================] - 215s 5s/step - loss: 0.0766 - accuracy: 0.9823 - val_loss: 2.0580 - val_accuracy: 0.5874\n",
      "Epoch 53/60\n",
      "47/47 [==============================] - 209s 4s/step - loss: 0.0863 - accuracy: 0.9783 - val_loss: 2.0597 - val_accuracy: 0.5804\n",
      "Epoch 54/60\n",
      "47/47 [==============================] - 210s 4s/step - loss: 0.0769 - accuracy: 0.9837 - val_loss: 2.0483 - val_accuracy: 0.5839\n",
      "Epoch 55/60\n"
     ]
    },
    {
     "name": "stdout",
     "output_type": "stream",
     "text": [
      "47/47 [==============================] - 216s 5s/step - loss: 0.0775 - accuracy: 0.9853 - val_loss: 2.0884 - val_accuracy: 0.6014\n",
      "Epoch 56/60\n",
      "47/47 [==============================] - 216s 5s/step - loss: 0.0633 - accuracy: 0.9840 - val_loss: 2.1164 - val_accuracy: 0.5839\n",
      "Epoch 57/60\n",
      "47/47 [==============================] - 214s 5s/step - loss: 0.0622 - accuracy: 0.9860 - val_loss: 2.1568 - val_accuracy: 0.5699\n",
      "Epoch 58/60\n",
      "47/47 [==============================] - 215s 5s/step - loss: 0.0697 - accuracy: 0.9837 - val_loss: 2.1625 - val_accuracy: 0.5769\n",
      "Epoch 59/60\n",
      "47/47 [==============================] - 215s 5s/step - loss: 0.0692 - accuracy: 0.9850 - val_loss: 2.1951 - val_accuracy: 0.5699\n",
      "Epoch 60/60\n",
      "47/47 [==============================] - 217s 5s/step - loss: 0.0635 - accuracy: 0.9880 - val_loss: 2.2643 - val_accuracy: 0.5699\n"
     ]
    }
   ],
   "source": [
    "history = model.fit(\n",
    "    train_generator,\n",
    "    validation_data=validation_generator,\n",
    "    epochs=60\n",
    ")\n"
   ]
  },
  {
   "cell_type": "code",
   "execution_count": 5,
   "metadata": {},
   "outputs": [
    {
     "name": "stdout",
     "output_type": "stream",
     "text": [
      "Epoch 1/50\n",
      "47/47 [==============================] - 280s 6s/step - loss: 2.7055 - accuracy: 0.3441 - val_loss: 2.4678 - val_accuracy: 0.5245\n",
      "Epoch 2/50\n",
      "47/47 [==============================] - 274s 6s/step - loss: 1.7654 - accuracy: 0.4554 - val_loss: 2.6218 - val_accuracy: 0.5000\n",
      "Epoch 3/50\n",
      "47/47 [==============================] - 281s 6s/step - loss: 1.5196 - accuracy: 0.4950 - val_loss: 2.3657 - val_accuracy: 0.4895\n",
      "Epoch 4/50\n",
      "47/47 [==============================] - 273s 6s/step - loss: 1.3461 - accuracy: 0.5333 - val_loss: 2.1292 - val_accuracy: 0.4790\n",
      "Epoch 5/50\n",
      "47/47 [==============================] - 282s 6s/step - loss: 1.2052 - accuracy: 0.5753 - val_loss: 1.9401 - val_accuracy: 0.4860\n",
      "Epoch 6/50\n",
      "47/47 [==============================] - 281s 6s/step - loss: 1.1116 - accuracy: 0.6083 - val_loss: 1.8004 - val_accuracy: 0.4860\n",
      "Epoch 7/50\n",
      "47/47 [==============================] - 274s 6s/step - loss: 1.0043 - accuracy: 0.6586 - val_loss: 1.7370 - val_accuracy: 0.4895\n",
      "Epoch 8/50\n",
      "47/47 [==============================] - 277s 6s/step - loss: 0.9171 - accuracy: 0.6902 - val_loss: 1.6925 - val_accuracy: 0.4895\n",
      "Epoch 9/50\n",
      "47/47 [==============================] - 274s 6s/step - loss: 0.8529 - accuracy: 0.6935 - val_loss: 1.6582 - val_accuracy: 0.4895\n",
      "Epoch 10/50\n",
      "47/47 [==============================] - 280s 6s/step - loss: 0.7677 - accuracy: 0.7262 - val_loss: 1.6508 - val_accuracy: 0.4895\n",
      "Epoch 11/50\n",
      "47/47 [==============================] - 275s 6s/step - loss: 0.6902 - accuracy: 0.7615 - val_loss: 1.6523 - val_accuracy: 0.5105\n",
      "Epoch 12/50\n",
      "47/47 [==============================] - 277s 6s/step - loss: 0.6149 - accuracy: 0.7785 - val_loss: 1.6757 - val_accuracy: 0.5070\n",
      "Epoch 13/50\n",
      "47/47 [==============================] - 276s 6s/step - loss: 0.5654 - accuracy: 0.8108 - val_loss: 1.6679 - val_accuracy: 0.5140\n",
      "Epoch 14/50\n",
      "47/47 [==============================] - 278s 6s/step - loss: 0.4982 - accuracy: 0.8268 - val_loss: 1.7105 - val_accuracy: 0.5140\n",
      "Epoch 15/50\n",
      "47/47 [==============================] - 273s 6s/step - loss: 0.4535 - accuracy: 0.8444 - val_loss: 1.7381 - val_accuracy: 0.5420\n",
      "Epoch 16/50\n",
      "47/47 [==============================] - 274s 6s/step - loss: 0.4018 - accuracy: 0.8638 - val_loss: 1.7717 - val_accuracy: 0.5455\n",
      "Epoch 17/50\n",
      "47/47 [==============================] - 274s 6s/step - loss: 0.3585 - accuracy: 0.8774 - val_loss: 1.8319 - val_accuracy: 0.5524\n",
      "Epoch 18/50\n",
      "47/47 [==============================] - 274s 6s/step - loss: 0.3037 - accuracy: 0.9014 - val_loss: 1.8919 - val_accuracy: 0.5490\n",
      "Epoch 19/50\n",
      "47/47 [==============================] - 277s 6s/step - loss: 0.2899 - accuracy: 0.9067 - val_loss: 1.9593 - val_accuracy: 0.5594\n",
      "Epoch 20/50\n",
      "47/47 [==============================] - 278s 6s/step - loss: 0.2394 - accuracy: 0.9254 - val_loss: 2.0217 - val_accuracy: 0.5594\n",
      "Epoch 21/50\n",
      "47/47 [==============================] - 269s 6s/step - loss: 0.2139 - accuracy: 0.9334 - val_loss: 2.0880 - val_accuracy: 0.5629\n",
      "Epoch 22/50\n",
      "47/47 [==============================] - 277s 6s/step - loss: 0.1881 - accuracy: 0.9430 - val_loss: 2.1138 - val_accuracy: 0.5629\n",
      "Epoch 23/50\n",
      "47/47 [==============================] - 278s 6s/step - loss: 0.1669 - accuracy: 0.9520 - val_loss: 2.1947 - val_accuracy: 0.5734\n",
      "Epoch 24/50\n",
      "47/47 [==============================] - 278s 6s/step - loss: 0.1502 - accuracy: 0.9550 - val_loss: 2.2771 - val_accuracy: 0.5594\n",
      "Epoch 25/50\n",
      "47/47 [==============================] - 272s 6s/step - loss: 0.1188 - accuracy: 0.9670 - val_loss: 2.2773 - val_accuracy: 0.5594\n",
      "Epoch 26/50\n",
      "47/47 [==============================] - 274s 6s/step - loss: 0.1186 - accuracy: 0.9667 - val_loss: 2.3108 - val_accuracy: 0.5699\n",
      "Epoch 27/50\n",
      "47/47 [==============================] - 275s 6s/step - loss: 0.1014 - accuracy: 0.9704 - val_loss: 2.3660 - val_accuracy: 0.5629\n",
      "Epoch 28/50\n",
      "47/47 [==============================] - 282s 6s/step - loss: 0.0948 - accuracy: 0.9783 - val_loss: 2.3850 - val_accuracy: 0.5629\n",
      "Epoch 29/50\n",
      "47/47 [==============================] - 279s 6s/step - loss: 0.0862 - accuracy: 0.9773 - val_loss: 2.4028 - val_accuracy: 0.5594\n",
      "Epoch 30/50\n",
      "47/47 [==============================] - 277s 6s/step - loss: 0.0747 - accuracy: 0.9797 - val_loss: 2.4594 - val_accuracy: 0.5699\n",
      "Epoch 31/50\n",
      "47/47 [==============================] - 281s 6s/step - loss: 0.0570 - accuracy: 0.9897 - val_loss: 2.5176 - val_accuracy: 0.5699\n",
      "Epoch 32/50\n",
      "47/47 [==============================] - 279s 6s/step - loss: 0.0540 - accuracy: 0.9867 - val_loss: 2.5729 - val_accuracy: 0.5664\n",
      "Epoch 33/50\n",
      "47/47 [==============================] - 270s 6s/step - loss: 0.0493 - accuracy: 0.9870 - val_loss: 2.6164 - val_accuracy: 0.5629\n",
      "Epoch 34/50\n",
      "47/47 [==============================] - 278s 6s/step - loss: 0.0542 - accuracy: 0.9870 - val_loss: 2.6223 - val_accuracy: 0.5699\n",
      "Epoch 35/50\n",
      "47/47 [==============================] - 276s 6s/step - loss: 0.0468 - accuracy: 0.9910 - val_loss: 2.6637 - val_accuracy: 0.5804\n",
      "Epoch 36/50\n",
      "47/47 [==============================] - 270s 6s/step - loss: 0.0460 - accuracy: 0.9873 - val_loss: 2.6538 - val_accuracy: 0.5769\n",
      "Epoch 37/50\n",
      "47/47 [==============================] - 272s 6s/step - loss: 0.0432 - accuracy: 0.9917 - val_loss: 2.6666 - val_accuracy: 0.5699\n",
      "Epoch 38/50\n",
      "47/47 [==============================] - 268s 6s/step - loss: 0.0352 - accuracy: 0.9923 - val_loss: 2.6625 - val_accuracy: 0.5699\n",
      "Epoch 39/50\n",
      "47/47 [==============================] - 279s 6s/step - loss: 0.0385 - accuracy: 0.9910 - val_loss: 2.6787 - val_accuracy: 0.5699\n",
      "Epoch 40/50\n",
      "47/47 [==============================] - 278s 6s/step - loss: 0.0319 - accuracy: 0.9933 - val_loss: 2.7196 - val_accuracy: 0.5734\n",
      "Epoch 41/50\n",
      "47/47 [==============================] - 278s 6s/step - loss: 0.0288 - accuracy: 0.9940 - val_loss: 2.7733 - val_accuracy: 0.5664\n",
      "Epoch 42/50\n",
      "47/47 [==============================] - 270s 6s/step - loss: 0.0317 - accuracy: 0.9933 - val_loss: 2.7476 - val_accuracy: 0.5734\n",
      "Epoch 43/50\n",
      "47/47 [==============================] - 275s 6s/step - loss: 0.0248 - accuracy: 0.9953 - val_loss: 2.8358 - val_accuracy: 0.5594\n",
      "Epoch 44/50\n",
      "47/47 [==============================] - 274s 6s/step - loss: 0.0255 - accuracy: 0.9950 - val_loss: 2.8701 - val_accuracy: 0.5664\n",
      "Epoch 45/50\n",
      "47/47 [==============================] - 265s 6s/step - loss: 0.0179 - accuracy: 0.9977 - val_loss: 2.8348 - val_accuracy: 0.5629\n",
      "Epoch 46/50\n",
      "47/47 [==============================] - 273s 6s/step - loss: 0.0255 - accuracy: 0.9923 - val_loss: 2.8705 - val_accuracy: 0.5804\n",
      "Epoch 47/50\n",
      "47/47 [==============================] - 266s 6s/step - loss: 0.0238 - accuracy: 0.9937 - val_loss: 2.8936 - val_accuracy: 0.5769\n",
      "Epoch 48/50\n",
      "47/47 [==============================] - 272s 6s/step - loss: 0.0194 - accuracy: 0.9963 - val_loss: 2.8976 - val_accuracy: 0.5734\n",
      "Epoch 49/50\n",
      "47/47 [==============================] - 270s 6s/step - loss: 0.0175 - accuracy: 0.9980 - val_loss: 2.8789 - val_accuracy: 0.5769\n",
      "Epoch 50/50\n",
      "47/47 [==============================] - 269s 6s/step - loss: 0.0169 - accuracy: 0.9973 - val_loss: 2.8855 - val_accuracy: 0.5664\n"
     ]
    }
   ],
   "source": [
    "# Unfreeze the top layers of the model\n",
    "for layer in base_model.layers[-20:]:\n",
    "    layer.trainable = True\n",
    "\n",
    "model.compile(optimizer=tf.keras.optimizers.Adam(1e-5), loss='categorical_crossentropy', metrics=['accuracy'])\n",
    "\n",
    "# Continue training\n",
    "history_fine = model.fit(\n",
    "    train_generator,\n",
    "    validation_data=validation_generator,\n",
    "    epochs=50\n",
    ")\n"
   ]
  },
  {
   "cell_type": "code",
   "execution_count": 6,
   "metadata": {},
   "outputs": [
    {
     "name": "stdout",
     "output_type": "stream",
     "text": [
      "5/5 [==============================] - 18s 4s/step - loss: 2.8855 - accuracy: 0.5664\n",
      "Validation Loss: 2.8855345249176025\n",
      "Validation Accuracy: 0.5664335489273071\n"
     ]
    }
   ],
   "source": [
    "loss, accuracy = model.evaluate(validation_generator)\n",
    "print(f'Validation Loss: {loss}')\n",
    "print(f'Validation Accuracy: {accuracy}')\n"
   ]
  },
  {
   "cell_type": "code",
   "execution_count": 7,
   "metadata": {},
   "outputs": [
    {
     "data": {
      "image/png": "[encoded data removed]",
      "text/plain": [
       "<Figure size 1200x400 with 2 Axes>"
      ]
     },
     "metadata": {},
     "output_type": "display_data"
    }
   ],
   "source": [
    "import matplotlib.pyplot as plt\n",
    "\n",
    "def plot_history(history):\n",
    "    plt.figure(figsize=(12, 4))\n",
    "    \n",
    "    # Plot training & validation accuracy values\n",
    "    plt.subplot(1, 2, 1)\n",
    "    plt.plot(history.history['accuracy'])\n",
    "    plt.plot(history.history['val_accuracy'])\n",
    "    plt.title('Model accuracy')\n",
    "    plt.ylabel('Accuracy')\n",
    "    plt.xlabel('Epoch')\n",
    "    plt.legend(['Train', 'Validation'], loc='upper left')\n",
    "    \n",
    "    # Plot training & validation loss values\n",
    "    plt.subplot(1, 2, 2)\n",
    "    plt.plot(history.history['loss'])\n",
    "    plt.plot(history.history['val_loss'])\n",
    "    plt.title('Model loss')\n",
    "    plt.ylabel('Loss')\n",
    "    plt.xlabel('Epoch')\n",
    "    plt.legend(['Train', 'Validation'], loc='upper left')\n",
    "    \n",
    "    plt.show()\n",
    "\n",
    "plot_history(history_fine)\n"
   ]
  },
  {
   "cell_type": "code",
   "execution_count": 9,
   "metadata": {},
   "outputs": [
    {
     "name": "stdout",
     "output_type": "stream",
     "text": [
      "Found 1437 images belonging to 7 classes.\n"
     ]
    }
   ],
   "source": [
    "test_datagen = ImageDataGenerator(preprocessing_function=preprocess_input)\n",
    "\n",
    "test_generator = test_datagen.flow_from_directory(\n",
    "    r\"C:\\Users\\User\\OneDrive\\Desktop\\EmoSense\\Face Emotion Recognition\\datasets\\test\",  # Replace with the path to your test images\n",
    "    target_size=IMAGE_SHAPE,\n",
    "    batch_size=32,\n",
    "    class_mode='categorical',\n",
    "    shuffle=False  # Important to keep the order for evaluation\n",
    ")\n"
   ]
  },
  {
   "cell_type": "code",
   "execution_count": 10,
   "metadata": {},
   "outputs": [
    {
     "name": "stdout",
     "output_type": "stream",
     "text": [
      "45/45 [==============================] - 82s 2s/step\n",
      "Accuracy: 44.33%\n"
     ]
    }
   ],
   "source": [
    "import numpy as np\n",
    "# Make predictions on the test set\n",
    "predictions = model.predict(test_generator)\n",
    "\n",
    "# Convert predictions to class labels\n",
    "predicted_classes = np.argmax(predictions, axis=1)\n",
    "\n",
    "# Extract the true labels from the test generator\n",
    "y_test = test_generator.classes\n",
    "\n",
    "# Calculate the accuracy using the custom function\n",
    "def accuracy(A):\n",
    "    count = 0\n",
    "    y_t = y_test[0:A.size]  # Adjust range as necessary\n",
    "    for i in range(A.size):\n",
    "        if A[i] == y_t[i]:\n",
    "            count += 1\n",
    "    acc = (count / A.size) * 100\n",
    "    return acc\n",
    "\n",
    "acc = accuracy(predicted_classes)\n",
    "print(f'Accuracy: {acc:.2f}%')\n"
   ]
  },
  {
   "cell_type": "code",
   "execution_count": 11,
   "metadata": {},
   "outputs": [
    {
     "name": "stderr",
     "output_type": "stream",
     "text": [
      "C:\\Users\\User\\anaconda3\\lib\\site-packages\\keras\\src\\engine\\training.py:3103: UserWarning: You are saving your model as an HDF5 file via `model.save()`. This file format is considered legacy. We recommend using instead the native Keras format, e.g. `model.save('my_model.keras')`.\n",
      "  saving_api.save_model(\n"
     ]
    }
   ],
   "source": [
    "# Assuming 'model' is your trained model\n",
    "model.save('32batch_model.h5')  # You can use .h5 or no extension for SavedModel format\n"
   ]
  },
  {
   "cell_type": "code",
   "execution_count": null,
   "metadata": {},
   "outputs": [],
   "source": []
  }
 ],
 "metadata": {
  "kernelspec": {
   "display_name": "Python 3 (ipykernel)",
   "language": "python",
   "name": "python3"
  },
  "language_info": {
   "codemirror_mode": {
    "name": "ipython",
    "version": 3
   },
   "file_extension": ".py",
   "mimetype": "text/x-python",
   "name": "python",
   "nbconvert_exporter": "python",
   "pygments_lexer": "ipython3",
   "version": "3.9.18"
  }
 },
 "nbformat": 4,
 "nbformat_minor": 2
}
